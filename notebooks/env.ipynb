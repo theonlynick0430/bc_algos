{
 "cells": [
  {
   "cell_type": "code",
   "execution_count": null,
   "metadata": {},
   "outputs": [],
   "source": [
    "from bc_algos.dataset.robomimic import RobomimicDataset\n",
    "from bc_algos.dataset.isaac_gym import IsaacGymDataset\n",
    "from bc_algos.envs.robosuite import RobosuiteEnv\n",
    "from bc_algos.utils.constants import Modality\n",
    "import bc_algos.utils.constants as Constants\n",
    "import matplotlib.pyplot as plt\n",
    "import json\n",
    "\n",
    "# change this to test different simulator environments\n",
    "type = Constants.EnvType.ROBOSUITE"
   ]
  },
  {
   "cell_type": "markdown",
   "metadata": {},
   "source": [
    "### Dataset Init"
   ]
  },
  {
   "cell_type": "code",
   "execution_count": null,
   "metadata": {},
   "outputs": [],
   "source": [
    "obs_key_to_modality = {\n",
    "    \"robot0_eef_pos\": Modality.LOW_DIM, \n",
    "    \"robot0_eef_quat\": Modality.LOW_DIM, \n",
    "    \"agentview_image\": Modality.RGB\n",
    "}\n",
    "obs_group_to_key = {\n",
    "    \"obs\": [\"robot0_eef_pos\", \"robot0_eef_quat\", \"agentview_image\"], \n",
    "    \"goal\": [\"agentview_image\"]\n",
    "}\n",
    "\n",
    "if type == Constants.EnvType.ROBOSUITE:\n",
    "    path = \"../datasets/test/square_ph.hdf5\"\n",
    "    action_key = \"actions\"\n",
    "    demo = \"demo_0\"\n",
    "\n",
    "elif type == Constants.DatasetType.ISAAC_GYM:\n",
    "    path = \"../datasets/dataset_v10_diff\"\n",
    "    action_key = \"action\"\n",
    "    demo = 0"
   ]
  },
  {
   "cell_type": "code",
   "execution_count": null,
   "metadata": {},
   "outputs": [],
   "source": [
    "if type == Constants.EnvType.ROBOSUITE:\n",
    "    dataset = RobomimicDataset(\n",
    "        path=path,\n",
    "        obs_key_to_modality=obs_key_to_modality,\n",
    "        obs_group_to_key=obs_group_to_key, \n",
    "        dataset_keys=[action_key], \n",
    "        frame_stack=0,\n",
    "        seq_length=1,\n",
    "        pad_frame_stack=False,\n",
    "        pad_seq_length=False,\n",
    "        get_pad_mask=False,\n",
    "        demos=[demo],\n",
    "        normalize=False,\n",
    "    )\n",
    "\n",
    "if type == Constants.EnvType.ISAAC_GYM:\n",
    "    dataset = IsaacGymDataset(\n",
    "        path=path,\n",
    "        obs_key_to_modality=obs_key_to_modality,\n",
    "        obs_group_to_key=obs_group_to_key, \n",
    "        dataset_keys=[action_key], \n",
    "        frame_stack=0,\n",
    "        seq_length=1,\n",
    "        pad_frame_stack=False,\n",
    "        pad_seq_length=False,\n",
    "        get_pad_mask=False,\n",
    "        demos=[demo],\n",
    "        normalize=False,\n",
    "    )"
   ]
  },
  {
   "cell_type": "markdown",
   "metadata": {},
   "source": [
    "### Environment Init"
   ]
  },
  {
   "cell_type": "code",
   "execution_count": null,
   "metadata": {},
   "outputs": [],
   "source": [
    "if type == Constants.EnvType.ROBOSUITE:\n",
    "    env_meta = json.loads(dataset.hdf5_file[\"data\"].attrs[\"env_args\"])\n",
    "    env = RobosuiteEnv(\n",
    "        env_name=env_meta[\"env_name\"],\n",
    "        obs_key_to_modality=obs_key_to_modality,\n",
    "        render=False,\n",
    "        use_image_obs=True, \n",
    "        use_depth_obs=False,\n",
    "        **env_meta[\"env_kwargs\"],\n",
    "    )"
   ]
  },
  {
   "cell_type": "markdown",
   "metadata": {},
   "source": [
    "### Test Environment"
   ]
  },
  {
   "cell_type": "code",
   "execution_count": null,
   "metadata": {},
   "outputs": [],
   "source": [
    "if type == Constants.EnvType.ROBOSUITE:\n",
    "    xml = dataset.hdf5_file[f\"data/{demo}\"].attrs[\"model_file\"]\n",
    "    env.load_env(xml=xml)\n",
    "    init_state = dataset.hdf5_file[f\"data/{demo}/states\"][0]\n",
    "    env.reset_to(state=init_state)\n",
    "\n",
    "for i in range(len(dataset)):\n",
    "    frame = dataset[i]\n",
    "    action = frame[action_key][0]\n",
    "    env.step(action=action)\n",
    "\n",
    "final_img = env.render()\n",
    "fig, axs = plt.subplots(1, 1)\n",
    "axs.imshow(final_img)\n",
    "plt.show()"
   ]
  }
 ],
 "metadata": {
  "kernelspec": {
   "display_name": "mental-models",
   "language": "python",
   "name": "python3"
  },
  "language_info": {
   "codemirror_mode": {
    "name": "ipython",
    "version": 3
   },
   "file_extension": ".py",
   "mimetype": "text/x-python",
   "name": "python",
   "nbconvert_exporter": "python",
   "pygments_lexer": "ipython3",
   "version": "3.8.0"
  }
 },
 "nbformat": 4,
 "nbformat_minor": 2
}
