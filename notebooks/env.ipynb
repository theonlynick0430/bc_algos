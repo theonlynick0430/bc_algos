{
 "cells": [
  {
   "cell_type": "code",
   "outputs": [],
   "source": [
    "%load_ext autoreload\n",
    "%autoreload 2"
   ],
   "metadata": {
    "collapsed": false,
    "ExecuteTime": {
     "end_time": "2024-04-23T17:36:49.965182199Z",
     "start_time": "2024-04-23T17:36:49.818140263Z"
    }
   },
   "execution_count": 1
  },
  {
   "cell_type": "code",
   "outputs": [
    {
     "name": "stdout",
     "output_type": "stream",
     "text": [
      "Importing module 'gym_37' (/home/markvdm/Documents/IsaacGym/isaacgym/python/isaacgym/_bindings/linux-x86_64/gym_37.so)\n",
      "Setting GYM_USD_PLUG_INFO_PATH to /home/markvdm/Documents/IsaacGym/isaacgym/python/isaacgym/_bindings/linux-x86_64/usd/plugInfo.json\n",
      "PyTorch version 1.8.1\n",
      "Device count 1\n",
      "/home/markvdm/Documents/IsaacGym/isaacgym/python/isaacgym/_bindings/src/gymtorch\n",
      "Using /home/markvdm/.cache/torch_extensions as PyTorch extensions root...\n",
      "Emitting ninja build file /home/markvdm/.cache/torch_extensions/gymtorch/build.ninja...\n",
      "Building extension module gymtorch...\n",
      "Allowing ninja to set a default number of workers... (overridable by setting the environment variable MAX_JOBS=N)\n",
      "ninja: no work to do.\n",
      "Loading extension module gymtorch...\n"
     ]
    },
    {
     "name": "stderr",
     "output_type": "stream",
     "text": [
      "2024-04-23 13:36:51,263 - INFO - logger - logger initialized\n",
      "<unknown>:6: DeprecationWarning: invalid escape sequence \\*\n",
      "/home/markvdm/Documents/IsaacGym/isaacgym/python/isaacgym/torch_utils.py:135: DeprecationWarning: `np.float` is a deprecated alias for the builtin `float`. To silence this warning, use `float` by itself. Doing this will not modify any behavior and is safe. If you specifically wanted the numpy scalar type, use `np.float64` here.\n",
      "Deprecated in NumPy 1.20; for more details and guidance: https://numpy.org/devdocs/release/1.20.0-notes.html#deprecations\n",
      "  def get_axis_params(value, axis_idx, x_value=0., dtype=np.float, n_dims=3):\n"
     ]
    },
    {
     "name": "stdout",
     "output_type": "stream",
     "text": [
      "Error: FBX library failed to load - importing FBX data will not succeed. Message: No module named 'fbx'\n",
      "FBX tools must be installed from https://help.autodesk.com/view/FBX/2020/ENU/?guid=FBX_Developer_Help_scripting_with_python_fbx_installing_python_fbx_html\n"
     ]
    },
    {
     "name": "stderr",
     "output_type": "stream",
     "text": [
      "/home/markvdm/miniconda3/envs/isaacgym/lib/python3.7/site-packages/networkx/classes/graph.py:23: DeprecationWarning: Using or importing the ABCs from 'collections' instead of from 'collections.abc' is deprecated since Python 3.3,and in 3.9 it will stop working\n",
      "  from collections import Mapping\n",
      "/home/markvdm/miniconda3/envs/isaacgym/lib/python3.7/site-packages/networkx/classes/reportviews.py:95: DeprecationWarning: Using or importing the ABCs from 'collections' instead of from 'collections.abc' is deprecated since Python 3.3,and in 3.9 it will stop working\n",
      "  from collections import Mapping, Set, Iterable\n",
      "/home/markvdm/miniconda3/envs/isaacgym/lib/python3.7/site-packages/networkx/readwrite/graphml.py:346: DeprecationWarning: `np.int` is a deprecated alias for the builtin `int`. To silence this warning, use `int` by itself. Doing this will not modify any behavior and is safe. When replacing `np.int`, you may wish to use e.g. `np.int64` or `np.int32` to specify the precision. If you wish to review your current use, check the release note link for additional information.\n",
      "Deprecated in NumPy 1.20; for more details and guidance: https://numpy.org/devdocs/release/1.20.0-notes.html#deprecations\n",
      "  (np.int, \"int\"), (np.int8, \"int\"),\n"
     ]
    },
    {
     "name": "stdout",
     "output_type": "stream",
     "text": [
      "[2024-04-23 13:36:52,091] [INFO] [real_accelerator.py:203:get_accelerator] Setting ds_accelerator to cuda (auto detect)\n",
      "\u001B[93m [WARNING] \u001B[0m async_io requires the dev libaio .so object and headers but these were not found.\n",
      "\u001B[93m [WARNING] \u001B[0m async_io: please install the libaio-dev package with apt\n",
      "\u001B[93m [WARNING] \u001B[0m If libaio is already installed (perhaps from source), try setting the CFLAGS and LDFLAGS environment variables to where it can be found.\n",
      "\u001B[93m [WARNING] \u001B[0m Please specify the CUTLASS repo directory as environment variable $CUTLASS_PATH\n",
      "\u001B[93m [WARNING] \u001B[0m NVIDIA Inference is only supported on Ampere and newer architectures\n"
     ]
    },
    {
     "name": "stderr",
     "output_type": "stream",
     "text": [
      "/home/markvdm/miniconda3/envs/isaacgym/compiler_compat/ld: cannot find -laio: No such file or directory\n",
      "collect2: error: ld returned 1 exit status\n"
     ]
    },
    {
     "name": "stdout",
     "output_type": "stream",
     "text": [
      "\u001B[93m [WARNING] \u001B[0m please install triton==1.0.0 if you want to use sparse attention\n"
     ]
    },
    {
     "name": "stderr",
     "output_type": "stream",
     "text": [
      "/home/markvdm/miniconda3/envs/isaacgym/lib/python3.7/site-packages/torch/utils/tensorboard/__init__.py:3: DeprecationWarning: distutils Version classes are deprecated. Use packaging.version instead.\n",
      "  if not hasattr(tensorboard, '__version__') or LooseVersion(tensorboard.__version__) < LooseVersion('1.15'):\n",
      "/home/markvdm/miniconda3/envs/isaacgym/lib/python3.7/site-packages/torchvision/transforms/functional_pil.py:207: DeprecationWarning: BILINEAR is deprecated and will be removed in Pillow 10 (2023-07-01). Use Resampling.BILINEAR instead.\n",
      "  def resize(img, size, interpolation=Image.BILINEAR):\n",
      "/home/markvdm/miniconda3/envs/isaacgym/lib/python3.7/site-packages/torchvision/transforms/functional_pil.py:280: DeprecationWarning: BICUBIC is deprecated and will be removed in Pillow 10 (2023-07-01). Use Resampling.BICUBIC instead.\n",
      "  def perspective(img, perspective_coeffs, interpolation=Image.BICUBIC, fill=None):\n",
      "/home/markvdm/miniconda3/envs/isaacgym/lib/python3.7/site-packages/matplotlib/__init__.py:202: DeprecationWarning: distutils Version classes are deprecated. Use packaging.version instead.\n",
      "  if LooseVersion(module.__version__) < minver:\n",
      "/home/markvdm/miniconda3/envs/isaacgym/lib/python3.7/site-packages/setuptools/_distutils/version.py:346: DeprecationWarning: distutils Version classes are deprecated. Use packaging.version instead.\n",
      "  other = LooseVersion(other)\n",
      "/home/markvdm/miniconda3/envs/isaacgym/lib/python3.7/site-packages/matplotlib/backend_bases.py:60: DeprecationWarning: distutils Version classes are deprecated. Use packaging.version instead.\n",
      "  if LooseVersion(PILLOW_VERSION) >= \"3.4\":\n",
      "/home/markvdm/miniconda3/envs/isaacgym/lib/python3.7/site-packages/setuptools/_distutils/version.py:346: DeprecationWarning: distutils Version classes are deprecated. Use packaging.version instead.\n",
      "  other = LooseVersion(other)\n"
     ]
    }
   ],
   "source": [
    "from isaacgym import gymtorch\n",
    "from isaacgym import gymapi\n",
    "\n",
    "from bc_algos.envs.isaacgym_simple import IsaacGymEnvSimple\n",
    "# from bc_algos.dataset.robomimic import RobomimicDataset\n",
    "from bc_algos.dataset.isaac_gym import IsaacGymDataset\n",
    "# from bc_algos.envs.robosuite import RobosuiteEnv\n",
    "from bc_algos.utils.constants import Modality\n",
    "import bc_algos.utils.constants as Constants\n",
    "import matplotlib.pyplot as plt\n",
    "import json\n",
    "import numpy as np\n",
    "\n",
    "# change this to test different simulator environments\n",
    "type = Constants.EnvType.ISAAC_GYM"
   ],
   "metadata": {
    "ExecuteTime": {
     "end_time": "2024-04-23T17:36:53.002195432Z",
     "start_time": "2024-04-23T17:36:49.860495158Z"
    }
   },
   "execution_count": 2
  },
  {
   "cell_type": "markdown",
   "metadata": {},
   "source": [
    "### Dataset Init"
   ]
  },
  {
   "cell_type": "code",
   "execution_count": 3,
   "metadata": {
    "ExecuteTime": {
     "end_time": "2024-04-23T17:36:53.033654538Z",
     "start_time": "2024-04-23T17:36:53.001364022Z"
    }
   },
   "outputs": [],
   "source": [
    "obs_key_to_modality = {\n",
    "    \"robot0_eef_pos\": Modality.LOW_DIM,\n",
    "    \"robot0_eef_quat\": Modality.LOW_DIM,\n",
    "    \"agentview_image\": Modality.RGB\n",
    "}\n",
    "obs_group_to_key = {\n",
    "    \"obs\": [\"robot0_eef_pos\", \"robot0_eef_quat\", \"agentview_image\"],\n",
    "    \"goal\": [\"agentview_image\"]\n",
    "}\n",
    "\n",
    "if type == Constants.EnvType.ROBOSUITE:\n",
    "    path = \"../datasets/test/square_ph.hdf5\"\n",
    "    action_key = \"actions\"\n",
    "    demo = \"demo_0\"\n",
    "\n",
    "elif type == Constants.DatasetType.ISAAC_GYM:\n",
    "    path = \"/home/markvdm/Documents/IsaacGym/mental_models_envs/out/mm_simple/dataset_v13_diff\"\n",
    "    action_key = \"actions\"\n",
    "    demo = 3"
   ]
  },
  {
   "cell_type": "code",
   "execution_count": 4,
   "metadata": {
    "ExecuteTime": {
     "end_time": "2024-04-23T17:36:53.079292262Z",
     "start_time": "2024-04-23T17:36:53.031403216Z"
    }
   },
   "outputs": [
    {
     "name": "stderr",
     "output_type": "stream",
     "text": [
      "loading dataset into memory: 100%|██████████| 1/1 [00:00<00:00, 60.99demo/s]\n",
      "caching index: 100%|██████████| 28/28 [00:00<00:00, 94102.97demo/s]\n"
     ]
    }
   ],
   "source": [
    "if type == Constants.EnvType.ROBOSUITE:\n",
    "    dataset = RobomimicDataset(\n",
    "        path=path,\n",
    "        obs_key_to_modality=obs_key_to_modality,\n",
    "        obs_group_to_key=obs_group_to_key,\n",
    "        dataset_keys=[action_key],\n",
    "        frame_stack=0,\n",
    "        seq_length=1,\n",
    "        pad_frame_stack=False,\n",
    "        pad_seq_length=False,\n",
    "        get_pad_mask=False,\n",
    "        demos=[demo],\n",
    "        normalize=False,\n",
    "    )\n",
    "\n",
    "if type == Constants.EnvType.ISAAC_GYM:\n",
    "    dataset = IsaacGymDataset(\n",
    "        path=path,\n",
    "        obs_key_to_modality=obs_key_to_modality,\n",
    "        obs_group_to_key=obs_group_to_key,\n",
    "        dataset_keys=[action_key],\n",
    "        frame_stack=0,\n",
    "        seq_length=1,\n",
    "        pad_frame_stack=False,\n",
    "        pad_seq_length=False,\n",
    "        get_pad_mask=False,\n",
    "        demos=[demo],\n",
    "        normalize=False,\n",
    "    )"
   ]
  },
  {
   "cell_type": "markdown",
   "metadata": {},
   "source": [
    "### Environment Init"
   ]
  },
  {
   "cell_type": "code",
   "execution_count": 5,
   "metadata": {
    "ExecuteTime": {
     "end_time": "2024-04-23T17:36:56.195085853Z",
     "start_time": "2024-04-23T17:36:53.082005146Z"
    }
   },
   "outputs": [
    {
     "name": "stderr",
     "output_type": "stream",
     "text": [
      "/home/markvdm/miniconda3/envs/isaacgym/lib/python3.7/site-packages/gym/spaces/box.py:84: UserWarning: \u001B[33mWARN: Box bound precision lowered by casting to float32\u001B[0m\n",
      "  logger.warn(f\"Box bound precision lowered by casting to {self.dtype}\")\n"
     ]
    },
    {
     "name": "stdout",
     "output_type": "stream",
     "text": [
      "Not connected to PVD\n",
      "+++ Using GPU PhysX\n",
      "Physics Engine: PhysX\n",
      "Physics Device: cuda:0\n",
      "GPU Pipeline: enabled\n",
      "num franka bodies:  16\n",
      "num franka dofs:  9\n",
      "[Warning] [carb.gym.plugin] Acquiring DOF force tensor, but no actors have DOF force sensors enabled.\n",
      "[Warning] [carb.gym.plugin] -> Enabled DOF force sensors for all eligible actors.\n"
     ]
    }
   ],
   "source": [
    "if type == Constants.EnvType.ROBOSUITE:\n",
    "    env_meta = json.loads(dataset.hdf5_file[\"data\"].attrs[\"env_args\"])\n",
    "    env = RobosuiteEnv(\n",
    "        env_name=env_meta[\"env_name\"],\n",
    "        obs_key_to_modality=obs_key_to_modality,\n",
    "        render=False,\n",
    "        use_image_obs=True,\n",
    "        use_depth_obs=False,\n",
    "        **env_meta[\"env_kwargs\"],\n",
    "    )\n",
    "elif type == Constants.EnvType.ISAAC_GYM:\n",
    "    env_cfg_file = \"../config/isaac_gym_env.json\"\n",
    "    cfg = json.load(open(env_cfg_file, \"r\"))\n",
    "    env = IsaacGymEnvSimple(\n",
    "        env_name=\"isaac_gyn_env_simple\",\n",
    "        obs_key_to_modality=obs_key_to_modality,\n",
    "        render=False,\n",
    "        use_image_obs=True,\n",
    "        use_depth_obs=False,\n",
    "        cfg=cfg,\n",
    "    )"
   ]
  },
  {
   "cell_type": "markdown",
   "source": [
    "### Test Environment"
   ],
   "metadata": {}
  },
  {
   "cell_type": "code",
   "execution_count": 6,
   "metadata": {
    "ExecuteTime": {
     "end_time": "2024-04-23T17:36:57.716240714Z",
     "start_time": "2024-04-23T17:36:56.197739585Z"
    }
   },
   "outputs": [
    {
     "name": "stdout",
     "output_type": "stream",
     "text": [
      "des q: [ 0.01911699  0.11994138 -0.02251467 -2.6209788   0.02397788  2.8068216\n",
      "  0.04615622  0.03999984  0.03999987]\n",
      "q: tensor([[ 0.0183,  0.1121, -0.0221, -2.6242,  0.0231,  2.8022,  0.0465,  0.0400,\n",
      "          0.0400]], device='cuda:0')\n"
     ]
    },
    {
     "data": {
      "text/plain": "<Figure size 640x480 with 3 Axes>",
      "image/png": "[encoded data removed]"
     },
     "metadata": {},
     "output_type": "display_data"
    }
   ],
   "source": [
    "if type == Constants.EnvType.ROBOSUITE:\n",
    "    xml = dataset.hdf5_file[f\"data/{demo}\"].attrs[\"model_file\"]\n",
    "    env.load_env(xml=xml)\n",
    "    init_state = dataset.hdf5_file[f\"data/{demo}/states\"][0]\n",
    "    env.reset_to(state=init_state)\n",
    "elif type == Constants.EnvType.ISAAC_GYM:\n",
    "    demo_metadata = dataset.dataset[demo][\"metadata\"]\n",
    "    env.reset_to(state=demo_metadata)\n",
    "\n",
    "ref_image = dataset[0][\"obs\"][\"agentview_image\"][0]\n",
    "curr_image = env.render()\n",
    "\n",
    "fig, axs = plt.subplots(1, 3)\n",
    "axs[0].imshow(ref_image)\n",
    "axs[1].imshow(curr_image)\n",
    "axs[2].imshow((curr_image - ref_image)[:, :, :3])\n",
    "plt.show()\n"
   ]
  },
  {
   "cell_type": "code",
   "outputs": [],
   "source": [
    "from matplotlib.animation import FuncAnimation, PillowWriter\n",
    "\n",
    "# \n",
    "# \n",
    "\n",
    "\n",
    "# def animate_rollout(i):\n",
    "for i in range(len(dataset)):\n",
    "    frame = dataset[i]\n",
    "    action = frame[action_key][0]\n",
    "\n",
    "    final_img = env.render()\n",
    "    ref_image = frame[\"obs\"][\"agentview_image\"][0]\n",
    "\n",
    "    fig, axs = plt.subplots(1, 2)\n",
    "    axs[0].imshow(ref_image)\n",
    "    axs[0].set_title(\"Reference\")\n",
    "    axs[1].imshow(final_img)\n",
    "    axs[1].set_title(\"Execution\")\n",
    "    plt.savefig(f\"../out/test_rollout/{i}.png\")\n",
    "    plt.draw()\n",
    "    # axs[2].imshow((curr_image - ref_image)[:, :, :3])\n",
    "    plt.close()\n",
    "\n",
    "    env.step(action=action)\n",
    "\n",
    "    # plt.show()\n",
    "\n",
    "\n",
    "# ani = FuncAnimation(fig, animate_rollout, frames=len(dataset), interval=1.0 / 8.0)\n",
    "# ani.save(\"../out/test_rollout/rollout.gif\", dpi=300, writer=PillowWriter(fps=8))"
   ],
   "metadata": {
    "collapsed": false,
    "ExecuteTime": {
     "end_time": "2024-04-23T17:37:03.278690477Z",
     "start_time": "2024-04-23T17:36:57.718720878Z"
    }
   },
   "execution_count": 7
  },
  {
   "cell_type": "code",
   "outputs": [],
   "source": [],
   "metadata": {
    "collapsed": false,
    "ExecuteTime": {
     "end_time": "2024-04-23T17:37:03.281888067Z",
     "start_time": "2024-04-23T17:37:03.279524773Z"
    }
   },
   "execution_count": 7
  }
 ],
 "metadata": {
  "kernelspec": {
   "display_name": "mental-models",
   "language": "python",
   "name": "python3"
  },
  "language_info": {
   "codemirror_mode": {
    "name": "ipython",
    "version": 3
   },
   "file_extension": ".py",
   "mimetype": "text/x-python",
   "name": "python",
   "nbconvert_exporter": "python",
   "pygments_lexer": "ipython3",
   "version": "3.8.0"
  }
 },
 "nbformat": 4,
 "nbformat_minor": 2
}
