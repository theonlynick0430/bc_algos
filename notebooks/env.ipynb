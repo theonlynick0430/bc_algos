{
 "cells": [
  {
   "cell_type": "code",
   "metadata": {},
   "source": [
    "import mmint_utils\n",
    "\n",
    "try:\n",
    "    from isaacgym import gymtorch\n",
    "    from isaacgym import gymapi\n",
    "except ImportError:\n",
    "    pass\n",
    "from bc_algos.dataset.robomimic import RobomimicDataset\n",
    "from bc_algos.envs.robosuite import RobosuiteEnv\n",
    "from bc_algos.dataset.isaac_gym import IsaacGymDataset\n",
    "from bc_algos.envs.isaac_gym import IsaacGymEnv\n",
    "from bc_algos.utils.constants import Modality\n",
    "import bc_algos.utils.constants as Constants\n",
    "from bc_algos.utils.misc import load_gzip_pickle\n",
    "import omegaconf\n",
    "import matplotlib.pyplot as plt\n",
    "import numpy as np\n",
    "import json\n",
    "\n",
    "# change this to test different simulator environments\n",
    "type = Constants.EnvType.ISAAC_GYM"
   ],
   "outputs": [],
   "execution_count": null
  },
  {
   "cell_type": "markdown",
   "metadata": {},
   "source": [
    "### Dataset Init"
   ]
  },
  {
   "cell_type": "code",
   "metadata": {},
   "source": [
    "obs_key_to_modality = {\n",
    "    \"robot0_eef_pos\": Modality.LOW_DIM,\n",
    "    \"robot0_eef_quat\": Modality.LOW_DIM,\n",
    "    \"agentview_image\": Modality.RGB\n",
    "}\n",
    "obs_group_to_key = {\n",
    "    \"obs\": [\"robot0_eef_pos\", \"robot0_eef_quat\", \"agentview_image\"],\n",
    "    \"goal\": [\"agentview_image\"]\n",
    "}\n",
    "action_key = \"actions\"\n",
    "\n",
    "if type == Constants.EnvType.ROBOSUITE:\n",
    "    path = \"../datasets/test/square_ph.hdf5\"\n",
    "    demo_id = \"demo_0\"\n",
    "\n",
    "elif type == Constants.DatasetType.ISAAC_GYM:\n",
    "    path = \"../out/0513_100_full\"\n",
    "    demo_ids = [90, 91, 92, 93, 94, 95, 96, 97, 98, 99, 0]\n",
    "\n",
    "print(demo_ids[-1])"
   ],
   "outputs": [],
   "execution_count": null
  },
  {
   "cell_type": "code",
   "metadata": {},
   "source": [
    "if type == Constants.EnvType.ROBOSUITE:\n",
    "    dataset = RobomimicDataset(\n",
    "        path=path,\n",
    "        obs_key_to_modality=obs_key_to_modality,\n",
    "        obs_group_to_key=obs_group_to_key,\n",
    "        action_key=action_key,\n",
    "        frame_stack=0,\n",
    "        seq_length=1,\n",
    "        pad_frame_stack=False,\n",
    "        pad_seq_length=False,\n",
    "        get_pad_mask=False,\n",
    "        demos=[demo_id],\n",
    "    )\n",
    "if type == Constants.EnvType.ISAAC_GYM:\n",
    "    dataset = IsaacGymDataset(\n",
    "        path=path,\n",
    "        obs_key_to_modality=obs_key_to_modality,\n",
    "        obs_group_to_key=obs_group_to_key,\n",
    "        action_key=action_key,\n",
    "        frame_stack=0,\n",
    "        seq_length=1,\n",
    "        pad_frame_stack=False,\n",
    "        pad_seq_length=False,\n",
    "        get_pad_mask=False,\n",
    "        demos=demo_ids,\n",
    "    )"
   ],
   "outputs": [],
   "execution_count": null
  },
  {
   "cell_type": "markdown",
   "metadata": {},
   "source": [
    "### Environment Init"
   ]
  },
  {
   "cell_type": "code",
   "metadata": {},
   "source": [
    "if type == Constants.EnvType.ROBOSUITE:\n",
    "    env_meta = json.loads(dataset.hdf5_file[\"data\"].attrs[\"env_args\"])\n",
    "    env = RobosuiteEnv(\n",
    "        env_name=env_meta[\"env_name\"],\n",
    "        obs_key_to_modality=obs_key_to_modality,\n",
    "        render=False,\n",
    "        use_image_obs=True,\n",
    "        use_depth_obs=False,\n",
    "        **env_meta[\"env_kwargs\"],\n",
    "    )\n",
    "elif type == Constants.EnvType.ISAAC_GYM:\n",
    "    env_cfg_path = \"/home/markvdm/Documents/IsaacGym/bc_algos/config/isaac_gym_env.json\"\n",
    "    config = omegaconf.OmegaConf.create(json.load(open(env_cfg_path, \"r\")))\n",
    "    env = IsaacGymEnv(\n",
    "        env_name=config.task.name,\n",
    "        obs_key_to_modality=obs_key_to_modality,\n",
    "        render=False,\n",
    "        use_image_obs=True,\n",
    "        use_depth_obs=False,\n",
    "        config=config,\n",
    "    )"
   ],
   "outputs": [],
   "execution_count": null
  },
  {
   "cell_type": "markdown",
   "metadata": {},
   "source": [
    "### Test Environment"
   ]
  },
  {
   "cell_type": "code",
   "metadata": {},
   "source": [
    "# initialize environment to same simulation state at the beginning of the demo\n",
    "if type == Constants.EnvType.ROBOSUITE:\n",
    "    xml = dataset.hdf5_file[f\"data/{demo_id}\"].attrs[\"model_file\"]\n",
    "    env.load_env(xml=xml)\n",
    "    init_state = dataset.hdf5_file[f\"data/{demo_id}/states\"][0]\n",
    "    env.reset_to(state=init_state)\n",
    "elif type == Constants.EnvType.ISAAC_GYM:\n",
    "    for demo_idx in demo_ids:\n",
    "        out_dir = f\"../outputs/test_env/run_{demo_idx}\"\n",
    "        mmint_utils.make_dir(out_dir)\n",
    "        print(demo_idx)\n",
    "        run = load_gzip_pickle(filename=dataset.demo_id_to_run_path(demo_id=demo_idx))\n",
    "        metadata = run[\"metadata\"]\n",
    "        cubes_pos = run[\"obs\"][\"cubes_pos\"][0]\n",
    "        cubes_quat = run[\"obs\"][\"cubes_quat\"][0]\n",
    "        cubes_pose = np.concatenate([cubes_pos, cubes_quat], axis=-1)\n",
    "        metadata.update({\n",
    "            \"block_init_pose\": cubes_pose,\n",
    "            \"start_q\": run[\"obs\"][\"q\"][0],\n",
    "        })\n",
    "        env.reset_to(state=metadata)\n",
    "        start = dataset.demo_id_to_start_index[demo_idx]\n",
    "        lent = dataset.demo_len(demo_idx)\n",
    "        img = env.render()\n",
    "        for i in range(start, start+lent):\n",
    "            frame = dataset[i]\n",
    "            action = frame[action_key][0]\n",
    "            ref_image = frame[\"obs\"][\"agentview_image\"][0]\n",
    "            img = env.render()\n",
    "            fig, axs = plt.subplots(1, 2)\n",
    "            axs[0].imshow(np.transpose(ref_image, (1, 2, 0)))\n",
    "            axs[0].set_title(\"Reference\")\n",
    "            axs[1].imshow(img)\n",
    "            axs[1].set_title(\"Execution\")\n",
    "            plt.savefig(f\"{out_dir}/{i}.jpg\")\n",
    "            plt.draw()\n",
    "            plt.close()\n",
    "            env.step(action=action)\n",
    "\n"
   ],
   "outputs": [],
   "execution_count": null
  },
  {
   "metadata": {},
   "cell_type": "code",
   "source": [
    "# compare reference and executed trajectories visually\n",
    "run = load_gzip_pickle(filename=dataset.demo_id_to_run_path(demo_id=demo_idx))\n",
    "metadata = run[\"metadata\"]\n",
    "cubes_pos = run[\"obs\"][\"cubes_pos\"][0]\n",
    "cubes_quat = run[\"obs\"][\"cubes_quat\"][0]\n",
    "cubes_pose = np.concatenate([cubes_pos, cubes_quat], axis=-1)\n",
    "metadata.update({\n",
    "    \"block_init_pose\": cubes_pose,\n",
    "    \"start_q\": run[\"obs\"][\"q\"][0],\n",
    "})\n",
    "env.reset_to(state=metadata)\n",
    "start = dataset.demo_id_to_start_index[demo_ids[-1]]\n",
    "print(start)\n",
    "for i in range(start, len(dataset)):\n",
    "# for i in range(len(dataset)):\n",
    "    frame = dataset[i]\n",
    "    action = frame[action_key][0]\n",
    "    ref_image = frame[\"obs\"][\"agentview_image\"][0]\n",
    "    img = env.render()\n",
    "    fig, axs = plt.subplots(1, 2)\n",
    "    axs[0].imshow(img)\n",
    "    axs[0].set_title(\"Reference\")\n",
    "    axs[1].imshow(img)\n",
    "    axs[1].set_title(\"Execution\")\n",
    "    plt.savefig(f\"../outputs/test_env/{i}.jpg\")\n",
    "    plt.draw()\n",
    "    plt.close()\n",
    "    env.step(action=action)"
   ],
   "outputs": [],
   "execution_count": null
  },
  {
   "cell_type": "code",
   "metadata": {},
   "source": [],
   "outputs": [],
   "execution_count": null
  }
 ],
 "metadata": {
  "kernelspec": {
   "display_name": "mental-models",
   "language": "python",
   "name": "python3"
  },
  "language_info": {
   "codemirror_mode": {
    "name": "ipython",
    "version": 3
   },
   "file_extension": ".py",
   "mimetype": "text/x-python",
   "name": "python",
   "nbconvert_exporter": "python",
   "pygments_lexer": "ipython3",
   "version": "3.8.19"
  }
 },
 "nbformat": 4,
 "nbformat_minor": 2
}
