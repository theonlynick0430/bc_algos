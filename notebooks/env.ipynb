{
 "cells": [
  {
   "cell_type": "code",
   "outputs": [],
   "source": [
    "%load_ext autoreload\n",
    "%autoreload 2"
   ],
   "metadata": {
    "collapsed": false
   },
   "execution_count": null
  },
  {
   "cell_type": "code",
   "outputs": [],
   "source": [
    "from isaacgym import gymtorch\n",
    "from isaacgym import gymapi\n",
    "\n",
    "from bc_algos.envs.isaacgym_simple import IsaacGymEnvSimple\n",
    "# from bc_algos.dataset.robomimic import RobomimicDataset\n",
    "from bc_algos.dataset.isaac_gym import IsaacGymDataset\n",
    "# from bc_algos.envs.robosuite import RobosuiteEnv\n",
    "from bc_algos.utils.constants import Modality\n",
    "import bc_algos.utils.constants as Constants\n",
    "import matplotlib.pyplot as plt\n",
    "import json\n",
    "import numpy as np\n",
    "\n",
    "# change this to test different simulator environments\n",
    "type = Constants.EnvType.ISAAC_GYM"
   ],
   "metadata": {},
   "execution_count": null
  },
  {
   "cell_type": "markdown",
   "metadata": {},
   "source": [
    "### Dataset Init"
   ]
  },
  {
   "cell_type": "code",
   "execution_count": null,
   "metadata": {},
   "outputs": [],
   "source": [
    "obs_key_to_modality = {\n",
    "    \"robot0_eef_pos\": Modality.LOW_DIM,\n",
    "    \"robot0_eef_quat\": Modality.LOW_DIM,\n",
    "    \"agentview_image\": Modality.RGB\n",
    "}\n",
    "obs_group_to_key = {\n",
    "    \"obs\": [\"robot0_eef_pos\", \"robot0_eef_quat\", \"agentview_image\"],\n",
    "    \"goal\": [\"agentview_image\"]\n",
    "}\n",
    "\n",
    "if type == Constants.EnvType.ROBOSUITE:\n",
    "    path = \"../datasets/test/square_ph.hdf5\"\n",
    "    action_key = \"actions\"\n",
    "    demo = \"demo_0\"\n",
    "\n",
    "elif type == Constants.DatasetType.ISAAC_GYM:\n",
    "    path = \"/home/markvdm/Documents/IsaacGym/mental_models_envs/out/mm_simple/dataset_v13_diff\"\n",
    "    action_key = \"actions\"\n",
    "    demo = 40"
   ]
  },
  {
   "cell_type": "code",
   "execution_count": null,
   "metadata": {},
   "outputs": [],
   "source": [
    "if type == Constants.EnvType.ROBOSUITE:\n",
    "    dataset = RobomimicDataset(\n",
    "        path=path,\n",
    "        obs_key_to_modality=obs_key_to_modality,\n",
    "        obs_group_to_key=obs_group_to_key,\n",
    "        dataset_keys=[action_key],\n",
    "        frame_stack=0,\n",
    "        seq_length=1,\n",
    "        pad_frame_stack=False,\n",
    "        pad_seq_length=False,\n",
    "        get_pad_mask=False,\n",
    "        demos=[demo],\n",
    "        normalize=False,\n",
    "    )\n",
    "\n",
    "if type == Constants.EnvType.ISAAC_GYM:\n",
    "    dataset = IsaacGymDataset(\n",
    "        path=path,\n",
    "        obs_key_to_modality=obs_key_to_modality,\n",
    "        obs_group_to_key=obs_group_to_key,\n",
    "        dataset_keys=[action_key],\n",
    "        frame_stack=0,\n",
    "        seq_length=1,\n",
    "        pad_frame_stack=False,\n",
    "        pad_seq_length=False,\n",
    "        get_pad_mask=False,\n",
    "        demos=[demo],\n",
    "        normalize=False,\n",
    "    )"
   ]
  },
  {
   "cell_type": "markdown",
   "metadata": {},
   "source": [
    "### Environment Init"
   ]
  },
  {
   "cell_type": "code",
   "execution_count": null,
   "metadata": {},
   "outputs": [],
   "source": [
    "if type == Constants.EnvType.ROBOSUITE:\n",
    "    env_meta = json.loads(dataset.hdf5_file[\"data\"].attrs[\"env_args\"])\n",
    "    env = RobosuiteEnv(\n",
    "        env_name=env_meta[\"env_name\"],\n",
    "        obs_key_to_modality=obs_key_to_modality,\n",
    "        render=False,\n",
    "        use_image_obs=True,\n",
    "        use_depth_obs=False,\n",
    "        **env_meta[\"env_kwargs\"],\n",
    "    )\n",
    "elif type == Constants.EnvType.ISAAC_GYM:\n",
    "    env_cfg_file = \"../config/isaac_gym_env.json\"\n",
    "    cfg = json.load(open(env_cfg_file, \"r\"))\n",
    "    env = IsaacGymEnvSimple(\n",
    "        env_name=\"isaac_gyn_env_simple\",\n",
    "        obs_key_to_modality=obs_key_to_modality,\n",
    "        render=False,\n",
    "        use_image_obs=True,\n",
    "        use_depth_obs=False,\n",
    "        cfg=cfg,\n",
    "    )"
   ]
  },
  {
   "cell_type": "markdown",
   "source": [
    "### Test Environment"
   ],
   "metadata": {}
  },
  {
   "cell_type": "code",
   "execution_count": null,
   "metadata": {},
   "outputs": [],
   "source": [
    "if type == Constants.EnvType.ROBOSUITE:\n",
    "    xml = dataset.hdf5_file[f\"data/{demo}\"].attrs[\"model_file\"]\n",
    "    env.load_env(xml=xml)\n",
    "    init_state = dataset.hdf5_file[f\"data/{demo}/states\"][0]\n",
    "    env.reset_to(state=init_state)\n",
    "elif type == Constants.EnvType.ISAAC_GYM:\n",
    "    demo_metadata = dataset.dataset[demo][\"metadata\"]\n",
    "    env.reset_to(state=demo_metadata)\n",
    "\n",
    "ref_image = dataset[0][\"obs\"][\"agentview_image\"][0]\n",
    "curr_image = env.render()\n",
    "\n",
    "fig, axs = plt.subplots(1, 3)\n",
    "axs[0].imshow(ref_image)\n",
    "axs[1].imshow(curr_image)\n",
    "axs[2].imshow((curr_image - ref_image)[:, :, :3])\n",
    "plt.show()\n"
   ]
  },
  {
   "cell_type": "code",
   "outputs": [],
   "source": [
    "from matplotlib.animation import FuncAnimation, PillowWriter\n",
    "\n",
    "# \n",
    "# \n",
    "\n",
    "\n",
    "# def animate_rollout(i):\n",
    "for i in range(len(dataset)):\n",
    "    frame = dataset[i]\n",
    "    action = frame[action_key][0]\n",
    "\n",
    "    final_img = env.render()\n",
    "    ref_image = frame[\"obs\"][\"agentview_image\"][0]\n",
    "\n",
    "    fig, axs = plt.subplots(1, 2)\n",
    "    axs[0].imshow(ref_image)\n",
    "    axs[0].set_title(\"Reference\")\n",
    "    axs[1].imshow(final_img)\n",
    "    axs[1].set_title(\"Execution\")\n",
    "    plt.savefig(f\"../out/test_rollout/{i}.png\")\n",
    "    plt.draw()\n",
    "    # axs[2].imshow((curr_image - ref_image)[:, :, :3])\n",
    "    plt.close()\n",
    "\n",
    "    env.step(action=action)\n",
    "\n",
    "    # plt.show()\n",
    "\n",
    "\n",
    "# ani = FuncAnimation(fig, animate_rollout, frames=len(dataset), interval=1.0 / 8.0)\n",
    "# ani.save(\"../out/test_rollout/rollout.gif\", dpi=300, writer=PillowWriter(fps=8))"
   ],
   "metadata": {
    "collapsed": false
   },
   "execution_count": null
  },
  {
   "cell_type": "code",
   "outputs": [],
   "source": [],
   "metadata": {
    "collapsed": false
   },
   "execution_count": null
  }
 ],
 "metadata": {
  "kernelspec": {
   "display_name": "mental-models",
   "language": "python",
   "name": "python3"
  },
  "language_info": {
   "codemirror_mode": {
    "name": "ipython",
    "version": 3
   },
   "file_extension": ".py",
   "mimetype": "text/x-python",
   "name": "python",
   "nbconvert_exporter": "python",
   "pygments_lexer": "ipython3",
   "version": "3.8.0"
  }
 },
 "nbformat": 4,
 "nbformat_minor": 2
}
