{
 "cells": [
  {
   "cell_type": "code",
   "execution_count": 1,
   "metadata": {},
   "outputs": [
    {
     "name": "stdout",
     "output_type": "stream",
     "text": [
      "Importing module 'gym_38' (/home/niksrid/IsaacGym/isaacgym/python/isaacgym/_bindings/linux-x86_64/gym_38.so)\n",
      "Setting GYM_USD_PLUG_INFO_PATH to /home/niksrid/IsaacGym/isaacgym/python/isaacgym/_bindings/linux-x86_64/usd/plugInfo.json\n",
      "PyTorch version 2.3.0+cu118\n",
      "Device count 4\n",
      "/home/niksrid/IsaacGym/isaacgym/python/isaacgym/_bindings/src/gymtorch\n"
     ]
    },
    {
     "name": "stderr",
     "output_type": "stream",
     "text": [
      "Using /home/niksrid/.cache/torch_extensions/py38_cu118 as PyTorch extensions root...\n",
      "Emitting ninja build file /home/niksrid/.cache/torch_extensions/py38_cu118/gymtorch/build.ninja...\n",
      "Building extension module gymtorch...\n",
      "Allowing ninja to set a default number of workers... (overridable by setting the environment variable MAX_JOBS=N)\n"
     ]
    },
    {
     "name": "stdout",
     "output_type": "stream",
     "text": [
      "ninja: no work to do.\n"
     ]
    },
    {
     "name": "stderr",
     "output_type": "stream",
     "text": [
      "Loading extension module gymtorch...\n",
      "/home/niksrid/miniconda3/envs/bc_algos/lib/python3.8/site-packages/tqdm/auto.py:21: TqdmWarning: IProgress not found. Please update jupyter and ipywidgets. See https://ipywidgets.readthedocs.io/en/stable/user_install.html\n",
      "  from .autonotebook import tqdm as notebook_tqdm\n"
     ]
    }
   ],
   "source": [
    "try:\n",
    "    from isaacgym import gymtorch\n",
    "    from isaacgym import gymapi\n",
    "except ImportError:\n",
    "    pass\n",
    "from bc_algos.dataset.robomimic import RobomimicDataset\n",
    "from bc_algos.envs.robosuite import RobosuiteEnv\n",
    "from bc_algos.dataset.isaac_gym import IsaacGymDataset\n",
    "from bc_algos.envs.isaac_gym import IsaacGymEnv\n",
    "from bc_algos.utils.constants import Modality\n",
    "import bc_algos.utils.constants as Constants\n",
    "import omegaconf\n",
    "import matplotlib.pyplot as plt\n",
    "import numpy as np\n",
    "import pandas as pd\n",
    "import json\n",
    "import cv2\n",
    "\n",
    "# change this to test different simulator environments\n",
    "type = Constants.EnvType.ISAAC_GYM"
   ]
  },
  {
   "cell_type": "markdown",
   "metadata": {},
   "source": [
    "### Dataset Init"
   ]
  },
  {
   "cell_type": "code",
   "execution_count": 2,
   "metadata": {},
   "outputs": [],
   "source": [
    "obs_key_to_modality = {\n",
    "    \"robot0_eef_pos\": Modality.LOW_DIM,\n",
    "    \"robot0_eef_quat\": Modality.LOW_DIM,\n",
    "    \"agentview_image\": Modality.RGB\n",
    "}\n",
    "obs_group_to_key = {\n",
    "    \"obs\": [\"robot0_eef_pos\", \"robot0_eef_quat\", \"agentview_image\"],\n",
    "    \"goal\": [\"agentview_image\"]\n",
    "}\n",
    "action_key = \"actions\"\n",
    "\n",
    "if type == Constants.EnvType.ROBOSUITE:\n",
    "    path = \"../datasets/test/square_ph.hdf5\"\n",
    "    demo_id = \"demo_0\"\n",
    "\n",
    "elif type == Constants.DatasetType.ISAAC_GYM:\n",
    "    path = \"../datasets/dataset_v5\"\n",
    "    demo_id = 95"
   ]
  },
  {
   "cell_type": "code",
   "execution_count": 3,
   "metadata": {},
   "outputs": [
    {
     "name": "stderr",
     "output_type": "stream",
     "text": [
      "computing normalization stats: 100%|██████████| 1/1 [00:00<00:00, 26.35demo/s]\n",
      "caching sequences: 100%|██████████| 1/1 [00:00<00:00, 25.65demo/s]\n"
     ]
    }
   ],
   "source": [
    "if type == Constants.EnvType.ROBOSUITE:\n",
    "    dataset = RobomimicDataset(\n",
    "        path=path,\n",
    "        obs_key_to_modality=obs_key_to_modality,\n",
    "        obs_group_to_key=obs_group_to_key,\n",
    "        action_key=action_key,\n",
    "        history=0,\n",
    "        action_chunk=1,\n",
    "        pad_history=False,\n",
    "        pad_action_chunk=False,\n",
    "        get_pad_mask=False,\n",
    "        demo_ids=[demo_id],\n",
    "    )\n",
    "if type == Constants.EnvType.ISAAC_GYM:\n",
    "    dataset = IsaacGymDataset(\n",
    "        path=path,\n",
    "        obs_key_to_modality=obs_key_to_modality,\n",
    "        obs_group_to_key=obs_group_to_key,\n",
    "        action_key=action_key,\n",
    "        history=0,\n",
    "        action_chunk=1,\n",
    "        pad_history=False,\n",
    "        pad_action_chunk=False,\n",
    "        get_pad_mask=False,\n",
    "        demo_ids=[demo_id],\n",
    "    )"
   ]
  },
  {
   "cell_type": "markdown",
   "metadata": {},
   "source": [
    "### Environment Init"
   ]
  },
  {
   "cell_type": "code",
   "execution_count": 4,
   "metadata": {},
   "outputs": [
    {
     "name": "stderr",
     "output_type": "stream",
     "text": [
      "2024-06-13 04:46:52,947 - INFO - logger - logger initialized\n",
      "<unknown>:3: DeprecationWarning: invalid escape sequence \\*\n",
      "/home/niksrid/IsaacGym/isaacgym/python/isaacgym/torch_utils.py:135: DeprecationWarning: `np.float` is a deprecated alias for the builtin `float`. To silence this warning, use `float` by itself. Doing this will not modify any behavior and is safe. If you specifically wanted the numpy scalar type, use `np.float64` here.\n",
      "Deprecated in NumPy 1.20; for more details and guidance: https://numpy.org/devdocs/release/1.20.0-notes.html#deprecations\n",
      "  def get_axis_params(value, axis_idx, x_value=0., dtype=np.float, n_dims=3):\n"
     ]
    },
    {
     "name": "stdout",
     "output_type": "stream",
     "text": [
      "Error: FBX library failed to load - importing FBX data will not succeed. Message: No module named 'fbx'\n",
      "FBX tools must be installed from https://help.autodesk.com/view/FBX/2020/ENU/?guid=FBX_Developer_Help_scripting_with_python_fbx_installing_python_fbx_html\n"
     ]
    },
    {
     "name": "stderr",
     "output_type": "stream",
     "text": [
      "/home/niksrid/miniconda3/envs/bc_algos/lib/python3.8/site-packages/networkx/classes/graph.py:23: DeprecationWarning: Using or importing the ABCs from 'collections' instead of from 'collections.abc' is deprecated since Python 3.3, and in 3.10 it will stop working\n",
      "  from collections import Mapping\n",
      "/home/niksrid/miniconda3/envs/bc_algos/lib/python3.8/site-packages/networkx/classes/reportviews.py:95: DeprecationWarning: Using or importing the ABCs from 'collections' instead of from 'collections.abc' is deprecated since Python 3.3, and in 3.10 it will stop working\n",
      "  from collections import Mapping, Set, Iterable\n",
      "/home/niksrid/miniconda3/envs/bc_algos/lib/python3.8/site-packages/networkx/readwrite/graphml.py:346: DeprecationWarning: `np.int` is a deprecated alias for the builtin `int`. To silence this warning, use `int` by itself. Doing this will not modify any behavior and is safe. When replacing `np.int`, you may wish to use e.g. `np.int64` or `np.int32` to specify the precision. If you wish to review your current use, check the release note link for additional information.\n",
      "Deprecated in NumPy 1.20; for more details and guidance: https://numpy.org/devdocs/release/1.20.0-notes.html#deprecations\n",
      "  (np.int, \"int\"), (np.int8, \"int\"),\n",
      "/home/niksrid/miniconda3/envs/bc_algos/lib/python3.8/site-packages/networkx/drawing/nx_pydot.py:27: DeprecationWarning: pkg_resources is deprecated as an API. See https://setuptools.pypa.io/en/latest/pkg_resources.html\n",
      "  from pkg_resources import parse_version\n",
      "/home/niksrid/miniconda3/envs/bc_algos/lib/python3.8/site-packages/pkg_resources/__init__.py:2832: DeprecationWarning: Deprecated call to `pkg_resources.declare_namespace('mpl_toolkits')`.\n",
      "Implementing implicit namespace packages (as specified in PEP 420) is preferred to `pkg_resources.declare_namespace`. See https://setuptools.pypa.io/en/latest/references/keywords.html#keyword-namespace-packages\n",
      "  declare_namespace(pkg)\n",
      "/home/niksrid/miniconda3/envs/bc_algos/lib/python3.8/site-packages/pkg_resources/__init__.py:2832: DeprecationWarning: Deprecated call to `pkg_resources.declare_namespace('google')`.\n",
      "Implementing implicit namespace packages (as specified in PEP 420) is preferred to `pkg_resources.declare_namespace`. See https://setuptools.pypa.io/en/latest/references/keywords.html#keyword-namespace-packages\n",
      "  declare_namespace(pkg)\n",
      "/home/niksrid/miniconda3/envs/bc_algos/lib/python3.8/site-packages/gym/spaces/box.py:84: UserWarning: \u001b[33mWARN: Box bound precision lowered by casting to float32\u001b[0m\n",
      "  logger.warn(f\"Box bound precision lowered by casting to {self.dtype}\")\n"
     ]
    },
    {
     "name": "stdout",
     "output_type": "stream",
     "text": [
      "Not connected to PVD\n",
      "+++ Using GPU PhysX\n",
      "Physics Engine: PhysX\n",
      "Physics Device: cuda:0\n",
      "GPU Pipeline: enabled\n"
     ]
    },
    {
     "name": "stderr",
     "output_type": "stream",
     "text": [
      "/home/niksrid/IsaacGym/IsaacGymEnvs/isaacgymenvs/tasks/mental_models_task.py:72: DeprecationWarning: an integer is required (got type isaacgym._bindings.linux-x86_64.gym_38.DofDriveMode).  Implicit conversion to integers using __int__ is deprecated, and may be removed in a future version of Python.\n",
      "  asset_options.default_dof_drive_mode = gymapi.DOF_MODE_EFFORT\n"
     ]
    },
    {
     "name": "stdout",
     "output_type": "stream",
     "text": [
      "num franka bodies:  16\n",
      "num franka dofs:  9\n",
      "[Warning] [carb.gym.plugin] Acquiring DOF force tensor, but no actors have DOF force sensors enabled.\n",
      "[Warning] [carb.gym.plugin] -> Enabled DOF force sensors for all eligible actors.\n"
     ]
    }
   ],
   "source": [
    "if type == Constants.EnvType.ROBOSUITE:\n",
    "    env_meta = json.loads(dataset.hdf5_file[\"data\"].attrs[\"env_args\"])\n",
    "    env = RobosuiteEnv(\n",
    "        env_name=env_meta[\"env_name\"],\n",
    "        obs_key_to_modality=obs_key_to_modality,\n",
    "        render=False,\n",
    "        use_image_obs=True,\n",
    "        use_depth_obs=False,\n",
    "        **env_meta[\"env_kwargs\"],\n",
    "    )\n",
    "elif type == Constants.EnvType.ISAAC_GYM:\n",
    "    env_cfg_path = \"../config/isaac_gym_env.json\"\n",
    "    config = omegaconf.OmegaConf.create(json.load(open(env_cfg_path, \"r\")))\n",
    "    env = IsaacGymEnv(\n",
    "        env_name=config.task.name,\n",
    "        obs_key_to_modality=obs_key_to_modality,\n",
    "        render=False,\n",
    "        use_image_obs=True,\n",
    "        use_depth_obs=False,\n",
    "        config=config,\n",
    "    )"
   ]
  },
  {
   "cell_type": "markdown",
   "metadata": {},
   "source": [
    "### Test Environment"
   ]
  },
  {
   "cell_type": "code",
   "execution_count": 5,
   "metadata": {},
   "outputs": [],
   "source": [
    "# initialize environment to same simulation state at the beginning of the demo\n",
    "if type == Constants.EnvType.ROBOSUITE:\n",
    "    xml = dataset.hdf5_file[f\"data/{demo_id}\"].attrs[\"model_file\"]\n",
    "    env.load_env(xml=xml)\n",
    "    init_state = dataset.hdf5_file[f\"data/{demo_id}/states\"][0]\n",
    "    env.reset_to(state=init_state)\n",
    "elif type == Constants.EnvType.ISAAC_GYM:\n",
    "    run = pd.read_pickle(dataset.demo_id_to_run_path(demo_id=demo_id))\n",
    "    metadata = run[\"metadata\"]\n",
    "    cubes_pos = run[\"obs\"][\"cubes_pos\"][0]\n",
    "    cubes_quat = run[\"obs\"][\"cubes_quat\"][0]\n",
    "    cubes_pose = np.concatenate([cubes_pos, cubes_quat], axis=-1)\n",
    "    metadata.update({\n",
    "        \"block_init_pose\": cubes_pose,\n",
    "        \"start_q\": run[\"obs\"][\"q\"][0],\n",
    "    })\n",
    "    env.reset_to(state=metadata)"
   ]
  },
  {
   "cell_type": "code",
   "execution_count": null,
   "metadata": {},
   "outputs": [],
   "source": [
    "# compare reference and executed trajectories visually\n",
    "demo_length = dataset.demo_len(demo_id=demo_id)\n",
    "demo = dataset.load_demo(demo_id=demo_id)\n",
    "for i in range(demo_length):\n",
    "    frame = dataset.seq_from_timstep(demo_id=demo_id, demo=demo, t=i)\n",
    "    action = frame[action_key][0]\n",
    "    ref_image = np.transpose(frame[\"obs\"][\"agentview_image\"][0], (1, 2, 0))\n",
    "    img = env.render()\n",
    "    # fig, axs = plt.subplots(1, 2)\n",
    "    # axs[0].imshow(ref_image)\n",
    "    # axs[0].set_title(\"Reference\")\n",
    "    # axs[1].imshow(img)\n",
    "    # axs[1].set_title(\"Execution\")\n",
    "    # plt.savefig(f\"../outputs/test_env/{i}.jpg\")\n",
    "    # plt.draw()\n",
    "    # plt.close()\n",
    "    cv2.imwrite(f\"../outputs/test_env/{i}.jpg\", cv2.cvtColor(img, cv2.COLOR_RGB2BGR))\n",
    "    env.step(action=action)"
   ]
  }
 ],
 "metadata": {
  "kernelspec": {
   "display_name": "mental-models",
   "language": "python",
   "name": "python3"
  },
  "language_info": {
   "codemirror_mode": {
    "name": "ipython",
    "version": 3
   },
   "file_extension": ".py",
   "mimetype": "text/x-python",
   "name": "python",
   "nbconvert_exporter": "python",
   "pygments_lexer": "ipython3",
   "version": "3.8.19"
  }
 },
 "nbformat": 4,
 "nbformat_minor": 2
}
