{
 "cells": [
  {
   "cell_type": "code",
   "execution_count": null,
   "metadata": {},
   "outputs": [],
   "source": [
    "import h5py\n",
    "import os\n",
    "import json\n",
    "from bc_algos.envs.robosuite import EnvRobosuite\n",
    "from bc_algos.utils.obs_utils import Modality\n",
    "import matplotlib.pyplot as plt"
   ]
  },
  {
   "cell_type": "code",
   "execution_count": null,
   "metadata": {},
   "outputs": [],
   "source": [
    "obs_key_to_modality = {\n",
    "    \"robot0_eef_pos\": Modality.LOW_DIM,\n",
    "    \"robot0_eef_quat\": Modality.LOW_DIM, \n",
    "    \"agentview_image\": Modality.RGB,\n",
    "}\n",
    "dataset_path = \"../datasets/test/square_ph.hdf5\"\n",
    "f = h5py.File(os.path.expanduser(dataset_path), \"r\")"
   ]
  },
  {
   "cell_type": "code",
   "execution_count": null,
   "metadata": {},
   "outputs": [],
   "source": [
    "env_meta = json.loads(f[\"data\"].attrs[\"env_args\"])\n",
    "env = EnvRobosuite(\n",
    "    env_name=env_meta[\"env_name\"],\n",
    "    obs_key_to_modality=obs_key_to_modality,\n",
    "    render=False,\n",
    "    use_image_obs=True, \n",
    "    use_depth_obs=False,\n",
    "    **env_meta[\"env_kwargs\"],\n",
    ")"
   ]
  },
  {
   "cell_type": "markdown",
   "metadata": {},
   "source": [
    "### Test Environment"
   ]
  },
  {
   "cell_type": "code",
   "execution_count": null,
   "metadata": {},
   "outputs": [],
   "source": [
    "xml = f[\"data/demo_0\"].attrs[\"model_file\"]\n",
    "env.load_env(xml=xml)\n",
    "init_state = f[\"data/demo_0/states\"][0]\n",
    "env.reset_to(state=init_state)\n",
    "\n",
    "for action in f[\"data/demo_0/actions\"]:\n",
    "    obs = env.step(action)\n",
    "    for obs_key in obs.keys():\n",
    "        if obs_key in obs_key_to_modality and obs_key_to_modality[obs_key] == Modality.RGB:\n",
    "            assert len(obs[obs_key].shape) == 3\n",
    "            assert obs[obs_key].shape[2] == 3\n",
    "\n",
    "final_img = env.render()\n",
    "fig, axs = plt.subplots(1, 1)\n",
    "axs.imshow(final_img)\n",
    "plt.show()"
   ]
  }
 ],
 "metadata": {
  "kernelspec": {
   "display_name": "mental-models",
   "language": "python",
   "name": "python3"
  },
  "language_info": {
   "codemirror_mode": {
    "name": "ipython",
    "version": 3
   },
   "file_extension": ".py",
   "mimetype": "text/x-python",
   "name": "python",
   "nbconvert_exporter": "python",
   "pygments_lexer": "ipython3",
   "version": "3.8.0"
  }
 },
 "nbformat": 4,
 "nbformat_minor": 2
}
