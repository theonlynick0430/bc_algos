{
 "cells": [
  {
   "cell_type": "code",
   "execution_count": 1,
   "metadata": {},
   "outputs": [],
   "source": [
    "import robomimic.utils.tensor_utils as TensorUtils\n",
    "import torch\n",
    "import numpy as np"
   ]
  },
  {
   "cell_type": "markdown",
   "metadata": {},
   "source": [
    "### Tensor Utils Unit Tests"
   ]
  },
  {
   "cell_type": "code",
   "execution_count": 2,
   "metadata": {},
   "outputs": [],
   "source": [
    "x = {\"obs\": {\"agentview_image\": np.random.randn(84, 84, 3)}}\n",
    "x = TensorUtils.to_tensor(x)\n",
    "assert isinstance(x[\"obs\"][\"agentview_image\"], torch.Tensor) \n",
    "x = TensorUtils.to_batch(x)\n",
    "assert x[\"obs\"][\"agentview_image\"].shape == (1, 84, 84, 3)\n",
    "x = TensorUtils.to_sequence(x)\n",
    "assert x[\"obs\"][\"agentview_image\"].shape == (1, 1, 84, 84, 3)\n",
    "x = TensorUtils.repeat_seq(x=x, k=10)\n",
    "assert x[\"obs\"][\"agentview_image\"].shape == (1, 10, 84, 84, 3)\n",
    "x = TensorUtils.slice(x=x, dim=1, start=0, end=5)\n",
    "assert x[\"obs\"][\"agentview_image\"].shape == (1, 5, 84, 84, 3)\n",
    "y = TensorUtils.shift_seq(x=x, k=1)\n",
    "assert torch.equal(x[\"obs\"][\"agentview_image\"][:, 0, :], y[\"obs\"][\"agentview_image\"][:, 1, :])\n",
    "y = TensorUtils.shift_seq(x=x, k=-1)\n",
    "assert torch.equal(x[\"obs\"][\"agentview_image\"], y[\"obs\"][\"agentview_image\"])"
   ]
  }
 ],
 "metadata": {
  "kernelspec": {
   "display_name": "mental-models",
   "language": "python",
   "name": "python3"
  },
  "language_info": {
   "codemirror_mode": {
    "name": "ipython",
    "version": 3
   },
   "file_extension": ".py",
   "mimetype": "text/x-python",
   "name": "python",
   "nbconvert_exporter": "python",
   "pygments_lexer": "ipython3",
   "version": "3.8.0"
  }
 },
 "nbformat": 4,
 "nbformat_minor": 2
}
