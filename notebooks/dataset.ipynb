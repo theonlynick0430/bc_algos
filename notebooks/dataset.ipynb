{
 "cells": [
  {
   "cell_type": "code",
   "execution_count": null,
   "metadata": {},
   "outputs": [],
   "source": [
    "from bc_algos.dataset.robomimic import RobomimicDataset\n",
    "import matplotlib.pyplot as plt\n",
    "import numpy as np\n",
    "\n",
    "obs_group_to_keys = {\"obs\": [\"robot0_eef_pos\", \"robot0_eef_quat\", \"agentview_image\"], \n",
    "                     \"goal\": [\"agentview_image\"]}\n",
    "dataset_keys = [\"actions\"]\n",
    "dataset_path = \"../datasets/test/square_ph.hdf5\"\n",
    "demos = [\"demo_0\"]"
   ]
  },
  {
   "cell_type": "code",
   "execution_count": null,
   "metadata": {},
   "outputs": [],
   "source": [
    "# create dataset\n",
    "dataset = RobomimicDataset(\n",
    "    hdf5_path=dataset_path,\n",
    "    obs_group_to_keys=obs_group_to_keys, \n",
    "    dataset_keys=dataset_keys, \n",
    "    goal_mode=None, \n",
    "    num_subgoal=None,\n",
    "    pad_frame_stack=False, \n",
    "    pad_seq_length=False,\n",
    "    demos=demos,\n",
    "    )"
   ]
  },
  {
   "cell_type": "code",
   "execution_count": null,
   "metadata": {},
   "outputs": [],
   "source": [
    "# verify gc on last frame only\n",
    "dataset.goal_mode = \"last\"\n",
    "dataset.cache_index()\n",
    "goalF = dataset[0][\"goal\"][\"agentview_image\"][0]\n",
    "goalL = dataset[-1][\"goal\"][\"agentview_image\"][0]\n",
    "assert np.all(np.equal(goalF, goalL))\n",
    "fig, axs = plt.subplots(1, 2)\n",
    "axs[0].imshow(goalF)\n",
    "axs[1].imshow(goalL)\n",
    "plt.show()"
   ]
  },
  {
   "cell_type": "code",
   "execution_count": null,
   "metadata": {},
   "outputs": [],
   "source": [
    "# verify dense subgoal\n",
    "dataset.goal_mode = \"subgoal\"\n",
    "dataset.cache_index()\n",
    "goal0 = dataset[0][\"goal\"][\"agentview_image\"][0]\n",
    "goal1 = dataset[1][\"goal\"][\"agentview_image\"][0]\n",
    "assert np.any(np.not_equal(goal0, goal1))\n",
    "fig, axs = plt.subplots(1, 2)\n",
    "axs[0].imshow(goal0)\n",
    "axs[1].imshow(goal1)\n",
    "plt.show()"
   ]
  },
  {
   "cell_type": "code",
   "execution_count": null,
   "metadata": {},
   "outputs": [],
   "source": [
    "# verify sparse subgoal\n",
    "dataset.goal_mode = \"subgoal\"\n",
    "dataset.num_subgoal = 10\n",
    "dataset.cache_index()\n",
    "goal0 = dataset[0][\"goal\"][\"agentview_image\"][0]\n",
    "goal1 = dataset[1][\"goal\"][\"agentview_image\"][0]\n",
    "goalL = dataset[-1][\"goal\"][\"agentview_image\"][0]\n",
    "assert np.all(np.equal(goal0, goal1))\n",
    "assert np.any(np.not_equal(goal1, goalL))\n",
    "fig, axs = plt.subplots(1, 3)\n",
    "axs[0].imshow(goal0)\n",
    "axs[1].imshow(goal1)\n",
    "axs[2].imshow(goalL)\n",
    "plt.show()"
   ]
  }
 ],
 "metadata": {
  "kernelspec": {
   "display_name": "mental-models",
   "language": "python",
   "name": "python3"
  },
  "language_info": {
   "codemirror_mode": {
    "name": "ipython",
    "version": 3
   },
   "file_extension": ".py",
   "mimetype": "text/x-python",
   "name": "python",
   "nbconvert_exporter": "python",
   "pygments_lexer": "ipython3",
   "version": "3.8.0"
  }
 },
 "nbformat": 4,
 "nbformat_minor": 2
}
