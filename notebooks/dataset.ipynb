{
 "cells": [
  {
   "cell_type": "code",
   "execution_count": null,
   "metadata": {},
   "outputs": [],
   "source": [
    "from bc_algos.dataset.robomimic import RobomimicDataset\n",
    "from bc_algos.dataset.isaac_gym import IsaacGymDataset\n",
    "from bc_algos.utils.constants import Modality, GoalMode\n",
    "import bc_algos.utils.obs_utils as ObsUtils\n",
    "import bc_algos.utils.constants as Constants\n",
    "import matplotlib.pyplot as plt\n",
    "import numpy as np\n",
    "\n",
    "def display(img):\n",
    "    if not isinstance(img, list):\n",
    "        img = [img]\n",
    "    _, axs = plt.subplots(1, len(img))\n",
    "    for i in range(len(img)):\n",
    "        axs[i].imshow(img[i])\n",
    "    plt.show()\n",
    "\n",
    "# change this to test different dataset types\n",
    "type = Constants.DatasetType.ISAAC_GYM"
   ]
  },
  {
   "cell_type": "markdown",
   "metadata": {},
   "source": [
    "### Normalization Utils Unit Tests"
   ]
  },
  {
   "cell_type": "code",
   "execution_count": null,
   "metadata": {},
   "outputs": [],
   "source": [
    "T = 10\n",
    "state_shape = [2, 2]\n",
    "\n",
    "traj0_dict = {\n",
    "    \"state\": 2*np.random.randn(T, *state_shape)-1\n",
    "}\n",
    "traj1_dict = {\n",
    "    \"state\": 2*np.random.randn(T, *state_shape)-1\n",
    "}"
   ]
  },
  {
   "cell_type": "code",
   "execution_count": null,
   "metadata": {},
   "outputs": [],
   "source": [
    "traj0_stats = ObsUtils.compute_traj_stats(traj0_dict)\n",
    "traj1_stats = ObsUtils.compute_traj_stats(traj1_dict)\n",
    "merged_stats = ObsUtils.aggregate_traj_stats(traj0_stats, traj1_stats)\n",
    "traj0_norm_stats = ObsUtils.compute_normalization_stats(traj0_stats)\n",
    "merged_norm_stats = ObsUtils.compute_normalization_stats(merged_stats)\n",
    "\n",
    "traj0_state = traj0_dict[\"state\"]\n",
    "assert np.allclose(traj0_norm_stats[\"state\"][\"mean\"], traj0_state.mean(axis=0))\n",
    "assert np.allclose(traj0_norm_stats[\"state\"][\"stdv\"], np.std(traj0_state, axis=0))\n",
    "merged_state = np.concatenate((traj0_dict[\"state\"], traj1_dict[\"state\"]), axis=0)\n",
    "assert np.allclose(merged_norm_stats[\"state\"][\"mean\"], merged_state.mean(axis=0))\n",
    "assert np.allclose(merged_norm_stats[\"state\"][\"stdv\"], np.std(merged_state, axis=0))"
   ]
  },
  {
   "cell_type": "markdown",
   "metadata": {},
   "source": [
    "### Dataset Init"
   ]
  },
  {
   "cell_type": "code",
   "execution_count": null,
   "metadata": {},
   "outputs": [],
   "source": [
    "obs_key_to_modality = {\n",
    "    \"robot0_eef_pos\": Modality.LOW_DIM, \n",
    "    \"robot0_eef_quat\": Modality.LOW_DIM, \n",
    "    \"agentview_image\": Modality.RGB\n",
    "}\n",
    "obs_group_to_key = {\n",
    "    \"obs\": [\"robot0_eef_pos\", \"robot0_eef_quat\", \"agentview_image\"], \n",
    "    \"goal\": [\"agentview_image\"]\n",
    "}\n",
    "action_key = \"actions\"\n",
    "\n",
    "if type == Constants.DatasetType.ROBOMIMIC:\n",
    "    path = \"../datasets/test/square_ph.hdf5\"\n",
    "    demos = [\"demo_0\", \"demo_1\"]\n",
    "elif type == Constants.DatasetType.ISAAC_GYM:\n",
    "    path = \"/home/niksrid/bc_algos/datasets/0502_100_high_freq\"\n",
    "    demos = [0, 1]\n",
    "\n",
    "frame_stack = 1\n",
    "seq_length = 2"
   ]
  },
  {
   "cell_type": "code",
   "execution_count": null,
   "metadata": {},
   "outputs": [],
   "source": [
    "if type == Constants.DatasetType.ROBOMIMIC:\n",
    "    dataset = RobomimicDataset(\n",
    "        path=path,\n",
    "        obs_key_to_modality=obs_key_to_modality,\n",
    "        obs_group_to_key=obs_group_to_key, \n",
    "        action_key=action_key, \n",
    "        frame_stack=frame_stack,\n",
    "        seq_length=seq_length,\n",
    "        pad_frame_stack=False,\n",
    "        pad_seq_length=False,\n",
    "        get_pad_mask=False,\n",
    "        demos=demos,\n",
    "    )\n",
    "elif type == Constants.DatasetType.ISAAC_GYM:\n",
    "    dataset = IsaacGymDataset(\n",
    "        path=path,\n",
    "        obs_key_to_modality=obs_key_to_modality,\n",
    "        obs_group_to_key=obs_group_to_key, \n",
    "        action_key=action_key, \n",
    "        frame_stack=frame_stack,\n",
    "        seq_length=seq_length,\n",
    "        pad_frame_stack=False,\n",
    "        pad_seq_length=False,\n",
    "        get_pad_mask=False,\n",
    "        demos=demos,\n",
    "    )\n",
    "\n",
    "print(dataset)"
   ]
  },
  {
   "cell_type": "markdown",
   "metadata": {},
   "source": [
    "### Padding Unit Tests"
   ]
  },
  {
   "cell_type": "code",
   "execution_count": null,
   "metadata": {},
   "outputs": [],
   "source": [
    "if type == Constants.DatasetType.ROBOMIMIC:\n",
    "    dataset_pad = RobomimicDataset(\n",
    "        path=path,\n",
    "        obs_key_to_modality=obs_key_to_modality,\n",
    "        obs_group_to_key=obs_group_to_key, \n",
    "        action_key=action_key, \n",
    "        frame_stack=frame_stack,\n",
    "        seq_length=seq_length,\n",
    "        demos=demos,\n",
    "    )\n",
    "elif type == Constants.DatasetType.ISAAC_GYM:\n",
    "    dataset_pad = IsaacGymDataset(\n",
    "        path=path,\n",
    "        obs_key_to_modality=obs_key_to_modality,\n",
    "        obs_group_to_key=obs_group_to_key, \n",
    "        action_key=action_key, \n",
    "        frame_stack=frame_stack,\n",
    "        seq_length=seq_length,\n",
    "        demos=demos,\n",
    "    )"
   ]
  },
  {
   "cell_type": "code",
   "execution_count": null,
   "metadata": {},
   "outputs": [],
   "source": [
    "# verify pad mask at beginning of dataset\n",
    "for i in range(frame_stack):\n",
    "    pad_mask = dataset_pad[i][\"pad_mask\"]\n",
    "    gt_mask = np.array([0] * (frame_stack-i) + [1] * (seq_length+i))\n",
    "    assert np.all(np.equal(pad_mask, gt_mask))\n",
    "\n",
    "# verify pad mask at end of dataset\n",
    "for i in range(1, seq_length):\n",
    "    pad_mask = dataset_pad[-i][\"pad_mask\"]\n",
    "    gt_mask = np.array([1] * (frame_stack+i) + [0] * (seq_length-i))\n",
    "    assert np.all(np.equal(pad_mask, gt_mask))"
   ]
  },
  {
   "cell_type": "markdown",
   "metadata": {},
   "source": [
    "### Sequence Fetching Unit Tests"
   ]
  },
  {
   "cell_type": "code",
   "execution_count": null,
   "metadata": {},
   "outputs": [],
   "source": [
    "# verify frames within single sequence are unique\n",
    "for i in range(len(dataset)):\n",
    "    frame = dataset[i]\n",
    "    T = frame[action_key].shape[0]\n",
    "    assert T == frame_stack + seq_length\n",
    "    assert np.not_equal(frame[action_key][:-1], frame[action_key][1:]).any(axis=1).all()\n",
    "    for obs_key in frame[\"obs\"]:\n",
    "        T = frame[\"obs\"][obs_key].shape[0]\n",
    "        assert T == frame_stack + seq_length\n",
    "        obs = frame[\"obs\"][obs_key].reshape(T, -1)\n",
    "        assert np.not_equal(obs[:-1], obs[1:]).any(axis=1).all()\n",
    "\n",
    "# verify frames across adjacent sequences are shifted by single timestep\n",
    "for i in range(len(dataset)-1):\n",
    "    if dataset.index_to_demo_id[i] == dataset.index_to_demo_id[i+1]:\n",
    "        frame_a = dataset[i]\n",
    "        frame_b = dataset[i+1]\n",
    "        assert np.equal(frame_a[action_key][1:], frame_b[action_key][:-1]).all()\n",
    "        for obs_key in frame[\"obs\"]:\n",
    "             assert np.equal(frame_a[\"obs\"][obs_key][1:], frame_b[\"obs\"][obs_key][:-1]).all()"
   ]
  },
  {
   "cell_type": "markdown",
   "metadata": {},
   "source": [
    "### Goal-Conditioning Unit Tests"
   ]
  },
  {
   "cell_type": "markdown",
   "metadata": {},
   "source": [
    "#### Last Goal"
   ]
  },
  {
   "cell_type": "code",
   "execution_count": null,
   "metadata": {},
   "outputs": [],
   "source": [
    "dataset.goal_mode = GoalMode.LAST\n",
    "dataset.cache_index()\n",
    "\n",
    "# verify length of goal sequence\n",
    "for i in range(len(dataset)):\n",
    "    frame = dataset[i]\n",
    "    for obs_key in frame[\"goal\"]:\n",
    "        T_goal = frame[\"goal\"][obs_key].shape[0]\n",
    "        assert T_goal == 1\n",
    "\n",
    "# verify goals across adjacent sequences are the same\n",
    "for i in range(len(dataset)-1):\n",
    "    if dataset.index_to_demo_id[i] == dataset.index_to_demo_id[i+1]:\n",
    "        frame_a = dataset[i]\n",
    "        frame_b = dataset[i+1]\n",
    "        for obs_key in frame_a[\"goal\"]:\n",
    "            goal_a = frame_a[\"goal\"][obs_key]\n",
    "            goal_b = frame_b[\"goal\"][obs_key]\n",
    "            assert np.equal(goal_a, goal_b).all()\n",
    "\n",
    "# for conditioning on goal image only\n",
    "display([goal_a[0], goal_b[0]])"
   ]
  },
  {
   "cell_type": "markdown",
   "metadata": {},
   "source": [
    "#### Dense Subgoals"
   ]
  },
  {
   "cell_type": "code",
   "execution_count": null,
   "metadata": {},
   "outputs": [],
   "source": [
    "dataset.goal_mode = GoalMode.SUBGOAL\n",
    "dataset.num_subgoal = None\n",
    "dataset.cache_index()\n",
    "\n",
    "# verify length of goal sequence\n",
    "for i in range(len(dataset)):\n",
    "    frame = dataset[i]\n",
    "    for obs_key in frame[\"goal\"]:\n",
    "        T_goal = frame[\"goal\"][obs_key].shape[0]\n",
    "        assert T_goal == seq_length\n",
    "\n",
    "# verify goals across adjacent sequences are shifted by single timestep\n",
    "for i in range(len(dataset)-1):\n",
    "    if dataset.index_to_demo_id[i] == dataset.index_to_demo_id[i+1]:\n",
    "        frame_a = dataset[i]\n",
    "        frame_b = dataset[i+1]\n",
    "        for obs_key in frame_a[\"goal\"]:\n",
    "            goal_a = frame_a[\"goal\"][obs_key]\n",
    "            goal_b = frame_b[\"goal\"][obs_key]\n",
    "            assert np.equal(goal_a, frame_b[\"obs\"][obs_key][frame_stack:]).all()\n",
    "            assert np.equal(goal_a[1:], goal_b[:-1]).all()\n",
    "            assert np.not_equal(goal_a.reshape(T_goal, -1), goal_b.reshape(T_goal, -1)).any(axis=1).all()\n",
    "\n",
    "# for conditioning on goal image only\n",
    "display([goal_a[0], goal_b[0]])"
   ]
  },
  {
   "cell_type": "markdown",
   "metadata": {},
   "source": [
    "#### Sparse Subgoals"
   ]
  },
  {
   "cell_type": "code",
   "execution_count": null,
   "metadata": {},
   "outputs": [],
   "source": [
    "num_subgoal = 3"
   ]
  },
  {
   "cell_type": "code",
   "execution_count": null,
   "metadata": {},
   "outputs": [],
   "source": [
    "dataset.goal_mode = GoalMode.SUBGOAL\n",
    "dataset.num_subgoal = num_subgoal\n",
    "dataset.cache_index()\n",
    "\n",
    "# verify length of goal sequence\n",
    "for i in range(len(dataset)):\n",
    "    frame = dataset[i]\n",
    "    for obs_key in frame[\"goal\"]:\n",
    "        T_goal = frame[\"goal\"][obs_key].shape[0]\n",
    "        assert T_goal == seq_length\n",
    "\n",
    "# verify goals at start of demo are the same but different from goals at end of demo\n",
    "for demo_id in dataset.demos:\n",
    "    index = dataset.demo_id_to_start_index[demo_id]\n",
    "    for obs_key in frame_a[\"goal\"]:\n",
    "        goal_a = dataset[index][\"goal\"][obs_key]\n",
    "        goal_b = dataset[index+1][\"goal\"][obs_key]\n",
    "        goal_c =  dataset[index+dataset.demo_len(demo_id=demo_id)-seq_length-1][\"goal\"][obs_key]\n",
    "        assert np.equal(goal_a, goal_b).all()\n",
    "        assert np.not_equal(goal_b.reshape(T_goal, -1), goal_c.reshape(T_goal, -1)).any(axis=1).all()\n",
    "\n",
    "# for conditioning on goal image only\n",
    "display([goal_a[0], goal_b[0], goal_c[0]])"
   ]
  },
  {
   "cell_type": "markdown",
   "metadata": {},
   "source": [
    "#### Full Subgoals"
   ]
  },
  {
   "cell_type": "code",
   "execution_count": null,
   "metadata": {},
   "outputs": [],
   "source": [
    "dataset.goal_mode = GoalMode.FULL\n",
    "dataset.num_subgoal = num_subgoal\n",
    "dataset.cache_index()\n",
    "\n",
    "# verify length of goal sequence\n",
    "for i in range(len(dataset)):\n",
    "    frame = dataset[i]\n",
    "    for obs_key in frame[\"goal\"]:\n",
    "        T_goal = frame[\"goal\"][obs_key].shape[0]\n",
    "        assert T_goal == num_subgoal\n",
    "\n",
    "# verify goals across adjacent sequences are the same\n",
    "for i in range(len(dataset)-1):\n",
    "    if dataset.index_to_demo_id[i] == dataset.index_to_demo_id[i+1]:\n",
    "        frame_a = dataset[i]\n",
    "        frame_b = dataset[i+1]\n",
    "        for obs_key in frame_a[\"goal\"]:\n",
    "            goal_a = frame_a[\"goal\"][obs_key]\n",
    "            goal_b = frame_b[\"goal\"][obs_key]\n",
    "            assert np.all(np.equal(goal_a, goal_b))\n",
    "\n",
    "# for conditioning on goal image only\n",
    "display(list(goal_a))"
   ]
  }
 ],
 "metadata": {
  "kernelspec": {
   "display_name": "mental-models",
   "language": "python",
   "name": "python3"
  },
  "language_info": {
   "codemirror_mode": {
    "name": "ipython",
    "version": 3
   },
   "file_extension": ".py",
   "mimetype": "text/x-python",
   "name": "python",
   "nbconvert_exporter": "python",
   "pygments_lexer": "ipython3",
   "version": "3.8.19"
  }
 },
 "nbformat": 4,
 "nbformat_minor": 2
}
