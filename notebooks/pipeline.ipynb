{
 "cells": [
  {
   "cell_type": "code",
   "execution_count": 1,
   "metadata": {},
   "outputs": [
    {
     "name": "stdout",
     "output_type": "stream",
     "text": [
      "Importing module 'gym_38' (/home/niksrid/IsaacGym/isaacgym/python/isaacgym/_bindings/linux-x86_64/gym_38.so)\n",
      "Setting GYM_USD_PLUG_INFO_PATH to /home/niksrid/IsaacGym/isaacgym/python/isaacgym/_bindings/linux-x86_64/usd/plugInfo.json\n",
      "PyTorch version 2.3.0\n",
      "Device count 4\n",
      "/home/niksrid/IsaacGym/isaacgym/python/isaacgym/_bindings/src/gymtorch\n"
     ]
    },
    {
     "name": "stderr",
     "output_type": "stream",
     "text": [
      "Using /home/niksrid/.cache/torch_extensions/py38_cu118 as PyTorch extensions root...\n",
      "Emitting ninja build file /home/niksrid/.cache/torch_extensions/py38_cu118/gymtorch/build.ninja...\n",
      "Building extension module gymtorch...\n",
      "Allowing ninja to set a default number of workers... (overridable by setting the environment variable MAX_JOBS=N)\n"
     ]
    },
    {
     "name": "stdout",
     "output_type": "stream",
     "text": [
      "ninja: no work to do.\n"
     ]
    },
    {
     "name": "stderr",
     "output_type": "stream",
     "text": [
      "Loading extension module gymtorch...\n",
      "/home/niksrid/miniconda3/envs/rlgpu/lib/python3.8/site-packages/tqdm/auto.py:21: TqdmWarning: IProgress not found. Please update jupyter and ipywidgets. See https://ipywidgets.readthedocs.io/en/stable/user_install.html\n",
      "  from .autonotebook import tqdm as notebook_tqdm\n"
     ]
    }
   ],
   "source": [
    "try:\n",
    "    from isaacgym import gymtorch\n",
    "    from isaacgym import gymapi\n",
    "    from bc_algos.dataset.isaac_gym import IsaacGymDataset\n",
    "    from bc_algos.rollout.isaacgym_simple import IsaacGymSimpleRolloutEnv\n",
    "except ImportError:\n",
    "    pass\n",
    "try:\n",
    "    from bc_algos.dataset.robomimic import RobomimicDataset\n",
    "    from bc_algos.rollout.robomimic import RobomimicRolloutEnv\n",
    "except ImportError:\n",
    "    pass\n",
    "import bc_algos.utils.obs_utils as ObsUtils\n",
    "import bc_algos.utils.tensor_utils as TensorUtils\n",
    "from bc_algos.models.obs_nets import ObservationGroupEncoder, ActionDecoder\n",
    "from bc_algos.models.backbone import Transformer, MLP\n",
    "from bc_algos.models.policy_nets import BC_Transformer, BC, BC_MLP\n",
    "\n",
    "import bc_algos.utils.constants as Constants\n",
    "from torch.utils.data import DataLoader\n",
    "from addict import Dict\n",
    "import json\n",
    "\n",
    "config_path = \"../config/bc_transformer.json\"\n",
    "video_dir = \"../outputs/test_rollout\"\n",
    "\n",
    "# load config \n",
    "with open(config_path, 'r') as f:\n",
    "    config = json.load(f)\n",
    "config = Dict(config)"
   ]
  },
  {
   "cell_type": "markdown",
   "metadata": {},
   "source": [
    "### ObsUtils Init"
   ]
  },
  {
   "cell_type": "code",
   "execution_count": 2,
   "metadata": {},
   "outputs": [
    {
     "name": "stdout",
     "output_type": "stream",
     "text": [
      "OrderedDict([(<Modality.LOW_DIM: 'low_dim'>, <class 'bc_algos.models.obs_core.LowDimCore'>), (<Modality.RGB: 'rgb'>, <class 'bc_algos.models.obs_core.ResNet18Core'>)])\n",
      "OrderedDict([('robot0_eef_pos', [3]), ('robot0_eef_quat', [4]), ('agentview_image', [3, 256, 256])])\n",
      "OrderedDict([('robot0_eef_pos', 'low_dim'), ('robot0_eef_quat', 'low_dim'), ('agentview_image', 'rgb')])\n",
      "OrderedDict([('obs', ['robot0_eef_pos', 'robot0_eef_quat', 'agentview_image'])])\n"
     ]
    },
    {
     "name": "stderr",
     "output_type": "stream",
     "text": [
      "/home/niksrid/miniconda3/envs/rlgpu/lib/python3.8/site-packages/torchvision/models/_utils.py:208: UserWarning: The parameter 'pretrained' is deprecated since 0.13 and may be removed in the future, please use 'weights' instead.\n",
      "  warnings.warn(\n",
      "/home/niksrid/miniconda3/envs/rlgpu/lib/python3.8/site-packages/torchvision/models/_utils.py:223: UserWarning: Arguments other than a weight enum or `None` for 'weights' are deprecated since 0.13 and may be removed in the future. The current behavior is equivalent to passing `weights=ResNet18_Weights.IMAGENET1K_V1`. You can also use `weights=ResNet18_Weights.DEFAULT` to get the most up-to-date weights.\n",
      "  warnings.warn(msg)\n"
     ]
    }
   ],
   "source": [
    "ObsUtils.init_obs_utils(config=config)\n",
    "print(ObsUtils.MODALITY_TO_ENC_CORE_CLASS)\n",
    "print(ObsUtils.OBS_KEY_TO_SHAPE)\n",
    "print(ObsUtils.OBS_KEY_TO_MODALITY)\n",
    "print(ObsUtils.OBS_GROUP_TO_KEY)"
   ]
  },
  {
   "cell_type": "markdown",
   "metadata": {},
   "source": [
    "### Test Factory Functions"
   ]
  },
  {
   "cell_type": "code",
   "execution_count": 3,
   "metadata": {},
   "outputs": [
    {
     "ename": "NameError",
     "evalue": "name 'RobomimicDataset' is not defined",
     "output_type": "error",
     "traceback": [
      "\u001b[0;31m---------------------------------------------------------------------------\u001b[0m",
      "\u001b[0;31mNameError\u001b[0m                                 Traceback (most recent call last)",
      "Cell \u001b[0;32mIn[3], line 2\u001b[0m\n\u001b[1;32m      1\u001b[0m \u001b[38;5;28;01mif\u001b[39;00m config\u001b[38;5;241m.\u001b[39mdataset\u001b[38;5;241m.\u001b[39mtype \u001b[38;5;241m==\u001b[39m Constants\u001b[38;5;241m.\u001b[39mDatasetType\u001b[38;5;241m.\u001b[39mROBOMIMIC:\n\u001b[0;32m----> 2\u001b[0m     trainset \u001b[38;5;241m=\u001b[39m \u001b[43mRobomimicDataset\u001b[49m\u001b[38;5;241m.\u001b[39mfactory(config\u001b[38;5;241m=\u001b[39mconfig, train\u001b[38;5;241m=\u001b[39m\u001b[38;5;28;01mTrue\u001b[39;00m)\n\u001b[1;32m      3\u001b[0m     validset \u001b[38;5;241m=\u001b[39m RobomimicDataset\u001b[38;5;241m.\u001b[39mfactory(config\u001b[38;5;241m=\u001b[39mconfig, train\u001b[38;5;241m=\u001b[39m\u001b[38;5;28;01mFalse\u001b[39;00m)\n\u001b[1;32m      4\u001b[0m \u001b[38;5;28;01melif\u001b[39;00m config\u001b[38;5;241m.\u001b[39mdataset\u001b[38;5;241m.\u001b[39mtype \u001b[38;5;241m==\u001b[39m Constants\u001b[38;5;241m.\u001b[39mDatasetType\u001b[38;5;241m.\u001b[39mISAAC_GYM:\n",
      "\u001b[0;31mNameError\u001b[0m: name 'RobomimicDataset' is not defined"
     ]
    }
   ],
   "source": [
    "if config.dataset.type == Constants.DatasetType.ROBOMIMIC:\n",
    "    trainset = RobomimicDataset.factory(config=config, train=True)\n",
    "    validset = RobomimicDataset.factory(config=config, train=False)\n",
    "elif config.dataset.type == Constants.DatasetType.ISAAC_GYM:\n",
    "    trainset = IsaacGymDataset.factory(config=config, train=True)\n",
    "    validset = IsaacGymDataset.factory(config=config, train=False)\n",
    "\n",
    "obs_group_enc = ObservationGroupEncoder.factory(config=config)\n",
    "\n",
    "if config.policy.type == Constants.PolicyType.MLP:\n",
    "    backbone = MLP.factory(config=config, embed_dim=obs_group_enc.output_dim)\n",
    "elif config.policy.type == Constants.PolicyType.TRANSFORMER:\n",
    "    backbone = Transformer.factory(config=config)\n",
    "\n",
    "action_dec = ActionDecoder.factory(config=config, input_dim=backbone.output_dim)\n",
    "\n",
    "if config.rollout.type == Constants.RolloutType.ROBOMIMIC:\n",
    "    rollout_env = RobomimicRolloutEnv.factory(\n",
    "        config=config, \n",
    "        validset=validset, \n",
    "        normalization_stats=trainset.normalization_stats,\n",
    "    )\n",
    "elif config.rollout.type == Constants.RolloutType.ISAAC_GYM:\n",
    "    rollout_env = IsaacGymSimpleRolloutEnv.factory(\n",
    "        config=config, \n",
    "        validset=validset, \n",
    "        normalization_stats=trainset.normalization_stats,\n",
    "    )"
   ]
  },
  {
   "cell_type": "markdown",
   "metadata": {},
   "source": [
    "###  Test Policy"
   ]
  },
  {
   "cell_type": "code",
   "execution_count": null,
   "metadata": {},
   "outputs": [],
   "source": [
    "train_loader = DataLoader(trainset, batch_size=config.train.batch_size, shuffle=True)\n",
    "train_loader_iter = iter(train_loader)\n",
    "input = next(train_loader_iter)\n",
    "input = BC.prepare_input(input=input)\n",
    "input[\"obs\"] = TensorUtils.slice(x=input[\"obs\"], dim=1, start=0, end=config.dataset.frame_stack+1)"
   ]
  },
  {
   "cell_type": "code",
   "execution_count": null,
   "metadata": {},
   "outputs": [],
   "source": [
    "if config.policy.type == Constants.PolicyType.MLP:\n",
    "    policy = BC_MLP(obs_group_enc=obs_group_enc, backbone=backbone, action_dec=action_dec)\n",
    "elif config.policy.type == Constants.PolicyType.TRANSFORMER:\n",
    "    policy = BC_Transformer.factory(\n",
    "        config=config, \n",
    "        obs_group_enc=obs_group_enc, \n",
    "        backbone=backbone, \n",
    "        action_dec=action_dec\n",
    "    )\n",
    "\n",
    "actions = policy(input)\n",
    "assert list(actions.shape) == [config.train.batch_size, config.dataset.seq_length, *config.policy.action_shape]"
   ]
  },
  {
   "cell_type": "markdown",
   "metadata": {},
   "source": [
    "### Test Rollout"
   ]
  },
  {
   "cell_type": "code",
   "execution_count": null,
   "metadata": {},
   "outputs": [],
   "source": [
    "results = rollout_env.rollout_with_stats(\n",
    "    policy=policy,\n",
    "    demo_id=validset.demos[0],\n",
    "    video_dir=video_dir,\n",
    "    horizon=25,\n",
    "    video_skip=1,\n",
    ")\n",
    "assert results[\"horizon\"] == 25"
   ]
  },
  {
   "cell_type": "markdown",
   "metadata": {},
   "source": [
    "### ObsUtils Deinit"
   ]
  },
  {
   "cell_type": "code",
   "execution_count": null,
   "metadata": {},
   "outputs": [],
   "source": [
    "ObsUtils.deinit_obs_utils()"
   ]
  }
 ],
 "metadata": {
  "kernelspec": {
   "display_name": "mental-models",
   "language": "python",
   "name": "python3"
  },
  "language_info": {
   "codemirror_mode": {
    "name": "ipython",
    "version": 3
   },
   "file_extension": ".py",
   "mimetype": "text/x-python",
   "name": "python",
   "nbconvert_exporter": "python",
   "pygments_lexer": "ipython3",
   "version": "3.8.19"
  }
 },
 "nbformat": 4,
 "nbformat_minor": 2
}
