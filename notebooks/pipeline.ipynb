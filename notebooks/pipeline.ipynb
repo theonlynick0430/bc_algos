{
 "cells": [
  {
   "cell_type": "code",
   "execution_count": null,
   "metadata": {},
   "outputs": [],
   "source": [
    "\n",
    "from bc_algos.dataset.robomimic import RobomimicDataset\n",
    "from bc_algos.rollout.robomimic import RobomimicRolloutEnv\n",
    "from bc_algos.dataset.isaac_gym import IsaacGymDataset\n",
    "from bc_algos.rollout.isaac_gym_simple import IsaacGymSimpleRolloutEnv\n",
    "import bc_algos.utils.obs_utils as ObsUtils\n",
    "import bc_algos.utils.tensor_utils as TensorUtils\n",
    "from bc_algos.models.obs_nets import ObservationGroupEncoder, ActionDecoder\n",
    "from bc_algos.models.backbone import Transformer, MLP\n",
    "from bc_algos.models.policy_nets import BC_Transformer, BC, BC_MLP\n",
    "import bc_algos.utils.constants as Constants\n",
    "from torch.utils.data import DataLoader\n",
    "from addict import Dict\n",
    "import json\n",
    "\n",
    "config_path = \"../config/bc_transformer.json\"\n",
    "video_dir = \"../outputs/test_rollout\"\n",
    "\n",
    "# load config \n",
    "with open(config_path, 'r') as f:\n",
    "    config = json.load(f)\n",
    "config = Dict(config)"
   ]
  },
  {
   "cell_type": "markdown",
   "metadata": {},
   "source": [
    "### ObsUtils Init"
   ]
  },
  {
   "cell_type": "code",
   "execution_count": null,
   "metadata": {},
   "outputs": [],
   "source": [
    "ObsUtils.init_obs_utils(config=config)\n",
    "print(ObsUtils.MODALITY_TO_ENC_CORE_CLASS)\n",
    "print(ObsUtils.OBS_KEY_TO_SHAPE)\n",
    "print(ObsUtils.OBS_KEY_TO_MODALITY)\n",
    "print(ObsUtils.OBS_GROUP_TO_KEY)"
   ]
  },
  {
   "cell_type": "markdown",
   "metadata": {},
   "source": [
    "### Test Factory Functions"
   ]
  },
  {
   "cell_type": "code",
   "execution_count": null,
   "metadata": {},
   "outputs": [],
   "source": [
    "if config.dataset.type == Constants.DatasetType.ROBOMIMIC:\n",
    "    trainset = RobomimicDataset.factory(config=config, train=True)\n",
    "    validset = RobomimicDataset.factory(config=config, train=False)\n",
    "elif config.dataset.type == Constants.DatasetType.ISAAC_GYM:\n",
    "    trainset = IsaacGymDataset.factory(config=config, train=True)\n",
    "    validset = IsaacGymDataset.factory(config=config, train=False)\n",
    "\n",
    "obs_group_enc = ObservationGroupEncoder.factory(config=config)\n",
    "\n",
    "if config.policy.type == Constants.PolicyType.MLP:\n",
    "    backbone = MLP.factory(config=config, embed_dim=obs_group_enc.output_dim)\n",
    "elif config.policy.type == Constants.PolicyType.TRANSFORMER:\n",
    "    backbone = Transformer.factory(config=config)\n",
    "\n",
    "action_dec = ActionDecoder.factory(config=config, input_dim=backbone.output_dim)\n",
    "\n",
    "if config.rollout.type == Constants.RolloutType.ROBOMIMIC:\n",
    "    rollout_env = RobomimicRolloutEnv.factory(\n",
    "        config=config, \n",
    "        validset=validset, \n",
    "        normalization_stats=trainset.normalization_stats,\n",
    "    )\n",
    "elif config.rollout.type == Constants.RolloutType.ISAAC_GYM:\n",
    "    rollout_env = IsaacGymSimpleRolloutEnv.factory(\n",
    "        config=config, \n",
    "        validset=validset, \n",
    "        normalization_stats=trainset.normalization_stats,\n",
    "    )"
   ]
  },
  {
   "cell_type": "markdown",
   "metadata": {},
   "source": [
    "###  Test Policy"
   ]
  },
  {
   "cell_type": "code",
   "execution_count": null,
   "metadata": {},
   "outputs": [],
   "source": [
    "train_loader = DataLoader(trainset, batch_size=config.train.batch_size, shuffle=True)\n",
    "train_loader_iter = iter(train_loader)\n",
    "input = next(train_loader_iter)\n",
    "input = BC.prepare_input(input=input)\n",
    "input[\"obs\"] = TensorUtils.slice(x=input[\"obs\"], dim=1, start=0, end=config.dataset.frame_stack+1)"
   ]
  },
  {
   "cell_type": "code",
   "execution_count": null,
   "metadata": {},
   "outputs": [],
   "source": [
    "if config.policy.type == Constants.PolicyType.MLP:\n",
    "    policy = BC_MLP(obs_group_enc=obs_group_enc, backbone=backbone, action_dec=action_dec)\n",
    "elif config.policy.type == Constants.PolicyType.TRANSFORMER:\n",
    "    policy = BC_Transformer.factory(\n",
    "        config=config, \n",
    "        obs_group_enc=obs_group_enc, \n",
    "        backbone=backbone, \n",
    "        action_dec=action_dec\n",
    "    )\n",
    "\n",
    "actions = policy(input)\n",
    "assert list(actions.shape) == [config.train.batch_size, config.dataset.seq_length, *config.policy.action_shape]"
   ]
  },
  {
   "cell_type": "markdown",
   "metadata": {},
   "source": [
    "### Test Rollout"
   ]
  },
  {
   "cell_type": "code",
   "execution_count": null,
   "metadata": {},
   "outputs": [],
   "source": [
    "results = rollout_env.rollout_with_stats(\n",
    "    policy=policy,\n",
    "    demo_id=validset.demos[0],\n",
    "    video_dir=video_dir,\n",
    "    horizon=25,\n",
    "    video_skip=1,\n",
    ")\n",
    "assert results[\"horizon\"] == 25"
   ]
  },
  {
   "cell_type": "markdown",
   "metadata": {},
   "source": [
    "### ObsUtils Deinit"
   ]
  },
  {
   "cell_type": "code",
   "execution_count": null,
   "metadata": {},
   "outputs": [],
   "source": [
    "ObsUtils.deinit_obs_utils()"
   ]
  }
 ],
 "metadata": {
  "kernelspec": {
   "display_name": "mental-models",
   "language": "python",
   "name": "python3"
  },
  "language_info": {
   "codemirror_mode": {
    "name": "ipython",
    "version": 3
   },
   "file_extension": ".py",
   "mimetype": "text/x-python",
   "name": "python",
   "nbconvert_exporter": "python",
   "pygments_lexer": "ipython3",
   "version": "3.8.0"
  }
 },
 "nbformat": 4,
 "nbformat_minor": 2
}
